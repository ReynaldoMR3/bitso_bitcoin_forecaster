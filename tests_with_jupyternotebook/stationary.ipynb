{
 "cells": [
  {
   "cell_type": "code",
   "execution_count": 1,
   "metadata": {},
   "outputs": [],
   "source": [
    "import pandas as pd\n",
    "import matplotlib.pyplot as plt\n",
    "import numpy as np\n",
    "%matplotlib inline"
   ]
  },
  {
   "cell_type": "code",
   "execution_count": 2,
   "metadata": {},
   "outputs": [],
   "source": [
    "df = pd.read_csv('../csv_files/btc_mxn_bitso_19_12_14.csv')"
   ]
  },
  {
   "cell_type": "code",
   "execution_count": 3,
   "metadata": {},
   "outputs": [],
   "source": [
    "df.set_index('date', inplace=True)"
   ]
  },
  {
   "cell_type": "code",
   "execution_count": 4,
   "metadata": {},
   "outputs": [],
   "source": [
    "df.index = pd.to_datetime(df.index)"
   ]
  },
  {
   "cell_type": "code",
   "execution_count": 5,
   "metadata": {},
   "outputs": [
    {
     "name": "stdout",
     "output_type": "stream",
     "text": [
      "<class 'pandas.core.frame.DataFrame'>\n",
      "DatetimeIndex: 348 entries, 2019-01-01 to 2019-12-14\n",
      "Data columns (total 6 columns):\n",
      "24h_avg    348 non-null float64\n",
      "12h_avg    348 non-null float64\n",
      "min        348 non-null float64\n",
      "max        348 non-null float64\n",
      "volume     348 non-null float64\n",
      "m_side     348 non-null object\n",
      "dtypes: float64(5), object(1)\n",
      "memory usage: 19.0+ KB\n"
     ]
    }
   ],
   "source": [
    "df.info()"
   ]
  },
  {
   "cell_type": "code",
   "execution_count": 6,
   "metadata": {},
   "outputs": [],
   "source": [
    "df_dum = pd.get_dummies(df)"
   ]
  },
  {
   "cell_type": "code",
   "execution_count": 7,
   "metadata": {},
   "outputs": [],
   "source": [
    "df_dum.rename(columns={'m_side_buy':'buy', 'm_side_sell':'sell'}, inplace=True)"
   ]
  },
  {
   "cell_type": "code",
   "execution_count": 8,
   "metadata": {},
   "outputs": [
    {
     "data": {
      "text/html": [
       "<div>\n",
       "<style scoped>\n",
       "    .dataframe tbody tr th:only-of-type {\n",
       "        vertical-align: middle;\n",
       "    }\n",
       "\n",
       "    .dataframe tbody tr th {\n",
       "        vertical-align: top;\n",
       "    }\n",
       "\n",
       "    .dataframe thead th {\n",
       "        text-align: right;\n",
       "    }\n",
       "</style>\n",
       "<table border=\"1\" class=\"dataframe\">\n",
       "  <thead>\n",
       "    <tr style=\"text-align: right;\">\n",
       "      <th></th>\n",
       "      <th>24h_avg</th>\n",
       "      <th>12h_avg</th>\n",
       "      <th>min</th>\n",
       "      <th>max</th>\n",
       "      <th>volume</th>\n",
       "      <th>buy</th>\n",
       "      <th>sell</th>\n",
       "    </tr>\n",
       "    <tr>\n",
       "      <th>date</th>\n",
       "      <th></th>\n",
       "      <th></th>\n",
       "      <th></th>\n",
       "      <th></th>\n",
       "      <th></th>\n",
       "      <th></th>\n",
       "      <th></th>\n",
       "    </tr>\n",
       "  </thead>\n",
       "  <tbody>\n",
       "    <tr>\n",
       "      <th>2019-01-01</th>\n",
       "      <td>72367.013703</td>\n",
       "      <td>71940.650982</td>\n",
       "      <td>71482.60</td>\n",
       "      <td>74305.00</td>\n",
       "      <td>23.596065</td>\n",
       "      <td>0</td>\n",
       "      <td>1</td>\n",
       "    </tr>\n",
       "    <tr>\n",
       "      <th>2019-01-02</th>\n",
       "      <td>74240.741398</td>\n",
       "      <td>73729.642422</td>\n",
       "      <td>73200.00</td>\n",
       "      <td>75800.00</td>\n",
       "      <td>32.171027</td>\n",
       "      <td>0</td>\n",
       "      <td>1</td>\n",
       "    </tr>\n",
       "    <tr>\n",
       "      <th>2019-01-03</th>\n",
       "      <td>74502.944671</td>\n",
       "      <td>75087.876912</td>\n",
       "      <td>73206.01</td>\n",
       "      <td>75770.91</td>\n",
       "      <td>32.681422</td>\n",
       "      <td>0</td>\n",
       "      <td>1</td>\n",
       "    </tr>\n",
       "    <tr>\n",
       "      <th>2019-01-04</th>\n",
       "      <td>73862.854180</td>\n",
       "      <td>74143.966128</td>\n",
       "      <td>73111.00</td>\n",
       "      <td>74992.99</td>\n",
       "      <td>63.488756</td>\n",
       "      <td>1</td>\n",
       "      <td>0</td>\n",
       "    </tr>\n",
       "    <tr>\n",
       "      <th>2019-01-05</th>\n",
       "      <td>74501.196250</td>\n",
       "      <td>74502.782839</td>\n",
       "      <td>73500.00</td>\n",
       "      <td>75340.12</td>\n",
       "      <td>43.711783</td>\n",
       "      <td>1</td>\n",
       "      <td>0</td>\n",
       "    </tr>\n",
       "    <tr>\n",
       "      <th>...</th>\n",
       "      <td>...</td>\n",
       "      <td>...</td>\n",
       "      <td>...</td>\n",
       "      <td>...</td>\n",
       "      <td>...</td>\n",
       "      <td>...</td>\n",
       "      <td>...</td>\n",
       "    </tr>\n",
       "    <tr>\n",
       "      <th>2019-12-10</th>\n",
       "      <td>140312.664853</td>\n",
       "      <td>141920.500901</td>\n",
       "      <td>138009.72</td>\n",
       "      <td>142536.45</td>\n",
       "      <td>42.952229</td>\n",
       "      <td>0</td>\n",
       "      <td>1</td>\n",
       "    </tr>\n",
       "    <tr>\n",
       "      <th>2019-12-11</th>\n",
       "      <td>137608.144227</td>\n",
       "      <td>139283.050570</td>\n",
       "      <td>132000.00</td>\n",
       "      <td>139900.00</td>\n",
       "      <td>35.334826</td>\n",
       "      <td>1</td>\n",
       "      <td>0</td>\n",
       "    </tr>\n",
       "    <tr>\n",
       "      <th>2019-12-12</th>\n",
       "      <td>136844.432405</td>\n",
       "      <td>136662.505259</td>\n",
       "      <td>135250.41</td>\n",
       "      <td>138699.98</td>\n",
       "      <td>25.641359</td>\n",
       "      <td>0</td>\n",
       "      <td>1</td>\n",
       "    </tr>\n",
       "    <tr>\n",
       "      <th>2019-12-13</th>\n",
       "      <td>137767.075557</td>\n",
       "      <td>137186.985455</td>\n",
       "      <td>136800.01</td>\n",
       "      <td>138799.97</td>\n",
       "      <td>39.382959</td>\n",
       "      <td>0</td>\n",
       "      <td>1</td>\n",
       "    </tr>\n",
       "    <tr>\n",
       "      <th>2019-12-14</th>\n",
       "      <td>136215.456165</td>\n",
       "      <td>138189.031451</td>\n",
       "      <td>133300.11</td>\n",
       "      <td>138488.46</td>\n",
       "      <td>32.294932</td>\n",
       "      <td>0</td>\n",
       "      <td>1</td>\n",
       "    </tr>\n",
       "  </tbody>\n",
       "</table>\n",
       "<p>348 rows × 7 columns</p>\n",
       "</div>"
      ],
      "text/plain": [
       "                  24h_avg        12h_avg        min        max     volume  \\\n",
       "date                                                                        \n",
       "2019-01-01   72367.013703   71940.650982   71482.60   74305.00  23.596065   \n",
       "2019-01-02   74240.741398   73729.642422   73200.00   75800.00  32.171027   \n",
       "2019-01-03   74502.944671   75087.876912   73206.01   75770.91  32.681422   \n",
       "2019-01-04   73862.854180   74143.966128   73111.00   74992.99  63.488756   \n",
       "2019-01-05   74501.196250   74502.782839   73500.00   75340.12  43.711783   \n",
       "...                   ...            ...        ...        ...        ...   \n",
       "2019-12-10  140312.664853  141920.500901  138009.72  142536.45  42.952229   \n",
       "2019-12-11  137608.144227  139283.050570  132000.00  139900.00  35.334826   \n",
       "2019-12-12  136844.432405  136662.505259  135250.41  138699.98  25.641359   \n",
       "2019-12-13  137767.075557  137186.985455  136800.01  138799.97  39.382959   \n",
       "2019-12-14  136215.456165  138189.031451  133300.11  138488.46  32.294932   \n",
       "\n",
       "            buy  sell  \n",
       "date                   \n",
       "2019-01-01    0     1  \n",
       "2019-01-02    0     1  \n",
       "2019-01-03    0     1  \n",
       "2019-01-04    1     0  \n",
       "2019-01-05    1     0  \n",
       "...         ...   ...  \n",
       "2019-12-10    0     1  \n",
       "2019-12-11    1     0  \n",
       "2019-12-12    0     1  \n",
       "2019-12-13    0     1  \n",
       "2019-12-14    0     1  \n",
       "\n",
       "[348 rows x 7 columns]"
      ]
     },
     "execution_count": 8,
     "metadata": {},
     "output_type": "execute_result"
    }
   ],
   "source": [
    "df_dum"
   ]
  },
  {
   "cell_type": "markdown",
   "metadata": {},
   "source": [
    "# Checking stationarity"
   ]
  },
  {
   "cell_type": "code",
   "execution_count": 9,
   "metadata": {},
   "outputs": [
    {
     "data": {
      "image/png": "[encoded data removed]",
      "text/plain": [
       "<Figure size 432x288 with 1 Axes>"
      ]
     },
     "metadata": {
      "needs_background": "light"
     },
     "output_type": "display_data"
    }
   ],
   "source": [
    "#checking stationarity\n",
    "#Visual proof\n",
    "df_dum.plot();"
   ]
  },
  {
   "cell_type": "code",
   "execution_count": 10,
   "metadata": {},
   "outputs": [],
   "source": [
    "#Dicky fuller test\n",
    "from statsmodels.tsa.stattools import adfuller"
   ]
  },
  {
   "cell_type": "code",
   "execution_count": 11,
   "metadata": {},
   "outputs": [],
   "source": [
    "def adf_test(timeseries):\n",
    "    #Perform Dickey-Fuller test:\n",
    "    print ('Results of Dickey-Fuller Test:')\n",
    "    dftest = adfuller(timeseries, autolag='AIC')\n",
    "    dfoutput = pd.Series(dftest[0:4], index=['Test Statistic','p-value','#Lags Used','Number of Observations Used'])\n",
    "    for key,value in dftest[4].items():\n",
    "        dfoutput['Critical Value (%s)'%key] = value\n",
    "    print (dfoutput)"
   ]
  },
  {
   "cell_type": "code",
   "execution_count": 12,
   "metadata": {},
   "outputs": [
    {
     "name": "stdout",
     "output_type": "stream",
     "text": [
      "Results of Dickey-Fuller Test:\n",
      "Test Statistic                  -1.450065\n",
      "p-value                          0.558053\n",
      "#Lags Used                       3.000000\n",
      "Number of Observations Used    344.000000\n",
      "Critical Value (1%)             -3.449503\n",
      "Critical Value (5%)             -2.869979\n",
      "Critical Value (10%)            -2.571266\n",
      "dtype: float64\n"
     ]
    },
    {
     "data": {
      "text/plain": [
       "'\\nAs we see with the visual proof\\nthe 24h_avg column is not stationary\\nthe test statistic is greater than our critical value.\\n'"
      ]
     },
     "execution_count": 12,
     "metadata": {},
     "output_type": "execute_result"
    }
   ],
   "source": [
    "adf_test(df_dum['24h_avg'])\n",
    "'''\n",
    "As we see with the visual proof\n",
    "the 24h_avg column is not stationary\n",
    "the test statistic is greater than our critical value.\n",
    "'''"
   ]
  },
  {
   "cell_type": "code",
   "execution_count": 13,
   "metadata": {},
   "outputs": [
    {
     "name": "stdout",
     "output_type": "stream",
     "text": [
      "Results of Dickey-Fuller Test:\n",
      "Test Statistic                  -1.418821\n",
      "p-value                          0.573220\n",
      "#Lags Used                       5.000000\n",
      "Number of Observations Used    342.000000\n",
      "Critical Value (1%)             -3.449616\n",
      "Critical Value (5%)             -2.870028\n",
      "Critical Value (10%)            -2.571292\n",
      "dtype: float64\n"
     ]
    },
    {
     "data": {
      "text/plain": [
       "'\\nAs we see with the visual proof\\nthe 12h_avg column is not stationary\\nthe test statistic is greater than our critical value.\\n'"
      ]
     },
     "execution_count": 13,
     "metadata": {},
     "output_type": "execute_result"
    }
   ],
   "source": [
    "adf_test(df_dum['12h_avg'])\n",
    "'''\n",
    "As we see with the visual proof\n",
    "the 12h_avg column is not stationary\n",
    "the test statistic is greater than our critical value.\n",
    "'''"
   ]
  },
  {
   "cell_type": "code",
   "execution_count": 14,
   "metadata": {},
   "outputs": [
    {
     "name": "stdout",
     "output_type": "stream",
     "text": [
      "Results of Dickey-Fuller Test:\n",
      "Test Statistic                  -1.410193\n",
      "p-value                          0.577380\n",
      "#Lags Used                       2.000000\n",
      "Number of Observations Used    345.000000\n",
      "Critical Value (1%)             -3.449447\n",
      "Critical Value (5%)             -2.869954\n",
      "Critical Value (10%)            -2.571253\n",
      "dtype: float64\n"
     ]
    },
    {
     "data": {
      "text/plain": [
       "'\\nAs we see with the visual proof\\nthe min column is not stationary\\nthe test statistic is greater than our critical value.\\n'"
      ]
     },
     "execution_count": 14,
     "metadata": {},
     "output_type": "execute_result"
    }
   ],
   "source": [
    "adf_test(df_dum['min'])\n",
    "'''\n",
    "As we see with the visual proof\n",
    "the min column is not stationary\n",
    "the test statistic is greater than our critical value.\n",
    "'''"
   ]
  },
  {
   "cell_type": "code",
   "execution_count": 15,
   "metadata": {},
   "outputs": [
    {
     "name": "stdout",
     "output_type": "stream",
     "text": [
      "Results of Dickey-Fuller Test:\n",
      "Test Statistic                  -1.471165\n",
      "p-value                          0.547725\n",
      "#Lags Used                       1.000000\n",
      "Number of Observations Used    346.000000\n",
      "Critical Value (1%)             -3.449392\n",
      "Critical Value (5%)             -2.869930\n",
      "Critical Value (10%)            -2.571240\n",
      "dtype: float64\n"
     ]
    },
    {
     "data": {
      "text/plain": [
       "'\\nAs we see with the visual proof\\nthe max column is not stationary\\nthe test statistic is greater than our critical value.\\n'"
      ]
     },
     "execution_count": 15,
     "metadata": {},
     "output_type": "execute_result"
    }
   ],
   "source": [
    "adf_test(df_dum['max'])\n",
    "'''\n",
    "As we see with the visual proof\n",
    "the max column is not stationary\n",
    "the test statistic is greater than our critical value.\n",
    "'''"
   ]
  },
  {
   "cell_type": "code",
   "execution_count": 16,
   "metadata": {},
   "outputs": [
    {
     "data": {
      "text/html": [
       "<div>\n",
       "<style scoped>\n",
       "    .dataframe tbody tr th:only-of-type {\n",
       "        vertical-align: middle;\n",
       "    }\n",
       "\n",
       "    .dataframe tbody tr th {\n",
       "        vertical-align: top;\n",
       "    }\n",
       "\n",
       "    .dataframe thead th {\n",
       "        text-align: right;\n",
       "    }\n",
       "</style>\n",
       "<table border=\"1\" class=\"dataframe\">\n",
       "  <thead>\n",
       "    <tr style=\"text-align: right;\">\n",
       "      <th></th>\n",
       "      <th>24h_avg</th>\n",
       "      <th>12h_avg</th>\n",
       "      <th>min</th>\n",
       "      <th>max</th>\n",
       "      <th>volume</th>\n",
       "      <th>m_side</th>\n",
       "    </tr>\n",
       "    <tr>\n",
       "      <th>date</th>\n",
       "      <th></th>\n",
       "      <th></th>\n",
       "      <th></th>\n",
       "      <th></th>\n",
       "      <th></th>\n",
       "      <th></th>\n",
       "    </tr>\n",
       "  </thead>\n",
       "  <tbody>\n",
       "    <tr>\n",
       "      <th>2019-01-01</th>\n",
       "      <td>72367.013703</td>\n",
       "      <td>71940.650982</td>\n",
       "      <td>71482.60</td>\n",
       "      <td>74305.00</td>\n",
       "      <td>23.596065</td>\n",
       "      <td>sell</td>\n",
       "    </tr>\n",
       "    <tr>\n",
       "      <th>2019-01-02</th>\n",
       "      <td>74240.741398</td>\n",
       "      <td>73729.642422</td>\n",
       "      <td>73200.00</td>\n",
       "      <td>75800.00</td>\n",
       "      <td>32.171027</td>\n",
       "      <td>sell</td>\n",
       "    </tr>\n",
       "    <tr>\n",
       "      <th>2019-01-03</th>\n",
       "      <td>74502.944671</td>\n",
       "      <td>75087.876912</td>\n",
       "      <td>73206.01</td>\n",
       "      <td>75770.91</td>\n",
       "      <td>32.681422</td>\n",
       "      <td>sell</td>\n",
       "    </tr>\n",
       "    <tr>\n",
       "      <th>2019-01-04</th>\n",
       "      <td>73862.854180</td>\n",
       "      <td>74143.966128</td>\n",
       "      <td>73111.00</td>\n",
       "      <td>74992.99</td>\n",
       "      <td>63.488756</td>\n",
       "      <td>buy</td>\n",
       "    </tr>\n",
       "    <tr>\n",
       "      <th>2019-01-05</th>\n",
       "      <td>74501.196250</td>\n",
       "      <td>74502.782839</td>\n",
       "      <td>73500.00</td>\n",
       "      <td>75340.12</td>\n",
       "      <td>43.711783</td>\n",
       "      <td>buy</td>\n",
       "    </tr>\n",
       "    <tr>\n",
       "      <th>...</th>\n",
       "      <td>...</td>\n",
       "      <td>...</td>\n",
       "      <td>...</td>\n",
       "      <td>...</td>\n",
       "      <td>...</td>\n",
       "      <td>...</td>\n",
       "    </tr>\n",
       "    <tr>\n",
       "      <th>2019-12-10</th>\n",
       "      <td>140312.664853</td>\n",
       "      <td>141920.500901</td>\n",
       "      <td>138009.72</td>\n",
       "      <td>142536.45</td>\n",
       "      <td>42.952229</td>\n",
       "      <td>sell</td>\n",
       "    </tr>\n",
       "    <tr>\n",
       "      <th>2019-12-11</th>\n",
       "      <td>137608.144227</td>\n",
       "      <td>139283.050570</td>\n",
       "      <td>132000.00</td>\n",
       "      <td>139900.00</td>\n",
       "      <td>35.334826</td>\n",
       "      <td>buy</td>\n",
       "    </tr>\n",
       "    <tr>\n",
       "      <th>2019-12-12</th>\n",
       "      <td>136844.432405</td>\n",
       "      <td>136662.505259</td>\n",
       "      <td>135250.41</td>\n",
       "      <td>138699.98</td>\n",
       "      <td>25.641359</td>\n",
       "      <td>sell</td>\n",
       "    </tr>\n",
       "    <tr>\n",
       "      <th>2019-12-13</th>\n",
       "      <td>137767.075557</td>\n",
       "      <td>137186.985455</td>\n",
       "      <td>136800.01</td>\n",
       "      <td>138799.97</td>\n",
       "      <td>39.382959</td>\n",
       "      <td>sell</td>\n",
       "    </tr>\n",
       "    <tr>\n",
       "      <th>2019-12-14</th>\n",
       "      <td>136215.456165</td>\n",
       "      <td>138189.031451</td>\n",
       "      <td>133300.11</td>\n",
       "      <td>138488.46</td>\n",
       "      <td>32.294932</td>\n",
       "      <td>sell</td>\n",
       "    </tr>\n",
       "  </tbody>\n",
       "</table>\n",
       "<p>348 rows × 6 columns</p>\n",
       "</div>"
      ],
      "text/plain": [
       "                  24h_avg        12h_avg        min        max     volume  \\\n",
       "date                                                                        \n",
       "2019-01-01   72367.013703   71940.650982   71482.60   74305.00  23.596065   \n",
       "2019-01-02   74240.741398   73729.642422   73200.00   75800.00  32.171027   \n",
       "2019-01-03   74502.944671   75087.876912   73206.01   75770.91  32.681422   \n",
       "2019-01-04   73862.854180   74143.966128   73111.00   74992.99  63.488756   \n",
       "2019-01-05   74501.196250   74502.782839   73500.00   75340.12  43.711783   \n",
       "...                   ...            ...        ...        ...        ...   \n",
       "2019-12-10  140312.664853  141920.500901  138009.72  142536.45  42.952229   \n",
       "2019-12-11  137608.144227  139283.050570  132000.00  139900.00  35.334826   \n",
       "2019-12-12  136844.432405  136662.505259  135250.41  138699.98  25.641359   \n",
       "2019-12-13  137767.075557  137186.985455  136800.01  138799.97  39.382959   \n",
       "2019-12-14  136215.456165  138189.031451  133300.11  138488.46  32.294932   \n",
       "\n",
       "           m_side  \n",
       "date               \n",
       "2019-01-01   sell  \n",
       "2019-01-02   sell  \n",
       "2019-01-03   sell  \n",
       "2019-01-04    buy  \n",
       "2019-01-05    buy  \n",
       "...           ...  \n",
       "2019-12-10   sell  \n",
       "2019-12-11    buy  \n",
       "2019-12-12   sell  \n",
       "2019-12-13   sell  \n",
       "2019-12-14   sell  \n",
       "\n",
       "[348 rows x 6 columns]"
      ]
     },
     "execution_count": 16,
     "metadata": {},
     "output_type": "execute_result"
    }
   ],
   "source": [
    "df"
   ]
  },
  {
   "cell_type": "code",
   "execution_count": 17,
   "metadata": {},
   "outputs": [],
   "source": [
    "df_dum.reset_index(drop=False, inplace=True)"
   ]
  },
  {
   "cell_type": "code",
   "execution_count": 18,
   "metadata": {},
   "outputs": [
    {
     "data": {
      "text/html": [
       "<div>\n",
       "<style scoped>\n",
       "    .dataframe tbody tr th:only-of-type {\n",
       "        vertical-align: middle;\n",
       "    }\n",
       "\n",
       "    .dataframe tbody tr th {\n",
       "        vertical-align: top;\n",
       "    }\n",
       "\n",
       "    .dataframe thead th {\n",
       "        text-align: right;\n",
       "    }\n",
       "</style>\n",
       "<table border=\"1\" class=\"dataframe\">\n",
       "  <thead>\n",
       "    <tr style=\"text-align: right;\">\n",
       "      <th></th>\n",
       "      <th>date</th>\n",
       "      <th>24h_avg</th>\n",
       "      <th>12h_avg</th>\n",
       "      <th>min</th>\n",
       "      <th>max</th>\n",
       "      <th>volume</th>\n",
       "      <th>buy</th>\n",
       "      <th>sell</th>\n",
       "    </tr>\n",
       "  </thead>\n",
       "  <tbody>\n",
       "    <tr>\n",
       "      <th>0</th>\n",
       "      <td>2019-01-01</td>\n",
       "      <td>72367.013703</td>\n",
       "      <td>71940.650982</td>\n",
       "      <td>71482.60</td>\n",
       "      <td>74305.00</td>\n",
       "      <td>23.596065</td>\n",
       "      <td>0</td>\n",
       "      <td>1</td>\n",
       "    </tr>\n",
       "    <tr>\n",
       "      <th>1</th>\n",
       "      <td>2019-01-02</td>\n",
       "      <td>74240.741398</td>\n",
       "      <td>73729.642422</td>\n",
       "      <td>73200.00</td>\n",
       "      <td>75800.00</td>\n",
       "      <td>32.171027</td>\n",
       "      <td>0</td>\n",
       "      <td>1</td>\n",
       "    </tr>\n",
       "    <tr>\n",
       "      <th>2</th>\n",
       "      <td>2019-01-03</td>\n",
       "      <td>74502.944671</td>\n",
       "      <td>75087.876912</td>\n",
       "      <td>73206.01</td>\n",
       "      <td>75770.91</td>\n",
       "      <td>32.681422</td>\n",
       "      <td>0</td>\n",
       "      <td>1</td>\n",
       "    </tr>\n",
       "    <tr>\n",
       "      <th>3</th>\n",
       "      <td>2019-01-04</td>\n",
       "      <td>73862.854180</td>\n",
       "      <td>74143.966128</td>\n",
       "      <td>73111.00</td>\n",
       "      <td>74992.99</td>\n",
       "      <td>63.488756</td>\n",
       "      <td>1</td>\n",
       "      <td>0</td>\n",
       "    </tr>\n",
       "    <tr>\n",
       "      <th>4</th>\n",
       "      <td>2019-01-05</td>\n",
       "      <td>74501.196250</td>\n",
       "      <td>74502.782839</td>\n",
       "      <td>73500.00</td>\n",
       "      <td>75340.12</td>\n",
       "      <td>43.711783</td>\n",
       "      <td>1</td>\n",
       "      <td>0</td>\n",
       "    </tr>\n",
       "    <tr>\n",
       "      <th>...</th>\n",
       "      <td>...</td>\n",
       "      <td>...</td>\n",
       "      <td>...</td>\n",
       "      <td>...</td>\n",
       "      <td>...</td>\n",
       "      <td>...</td>\n",
       "      <td>...</td>\n",
       "      <td>...</td>\n",
       "    </tr>\n",
       "    <tr>\n",
       "      <th>343</th>\n",
       "      <td>2019-12-10</td>\n",
       "      <td>140312.664853</td>\n",
       "      <td>141920.500901</td>\n",
       "      <td>138009.72</td>\n",
       "      <td>142536.45</td>\n",
       "      <td>42.952229</td>\n",
       "      <td>0</td>\n",
       "      <td>1</td>\n",
       "    </tr>\n",
       "    <tr>\n",
       "      <th>344</th>\n",
       "      <td>2019-12-11</td>\n",
       "      <td>137608.144227</td>\n",
       "      <td>139283.050570</td>\n",
       "      <td>132000.00</td>\n",
       "      <td>139900.00</td>\n",
       "      <td>35.334826</td>\n",
       "      <td>1</td>\n",
       "      <td>0</td>\n",
       "    </tr>\n",
       "    <tr>\n",
       "      <th>345</th>\n",
       "      <td>2019-12-12</td>\n",
       "      <td>136844.432405</td>\n",
       "      <td>136662.505259</td>\n",
       "      <td>135250.41</td>\n",
       "      <td>138699.98</td>\n",
       "      <td>25.641359</td>\n",
       "      <td>0</td>\n",
       "      <td>1</td>\n",
       "    </tr>\n",
       "    <tr>\n",
       "      <th>346</th>\n",
       "      <td>2019-12-13</td>\n",
       "      <td>137767.075557</td>\n",
       "      <td>137186.985455</td>\n",
       "      <td>136800.01</td>\n",
       "      <td>138799.97</td>\n",
       "      <td>39.382959</td>\n",
       "      <td>0</td>\n",
       "      <td>1</td>\n",
       "    </tr>\n",
       "    <tr>\n",
       "      <th>347</th>\n",
       "      <td>2019-12-14</td>\n",
       "      <td>136215.456165</td>\n",
       "      <td>138189.031451</td>\n",
       "      <td>133300.11</td>\n",
       "      <td>138488.46</td>\n",
       "      <td>32.294932</td>\n",
       "      <td>0</td>\n",
       "      <td>1</td>\n",
       "    </tr>\n",
       "  </tbody>\n",
       "</table>\n",
       "<p>348 rows × 8 columns</p>\n",
       "</div>"
      ],
      "text/plain": [
       "          date        24h_avg        12h_avg        min        max     volume  \\\n",
       "0   2019-01-01   72367.013703   71940.650982   71482.60   74305.00  23.596065   \n",
       "1   2019-01-02   74240.741398   73729.642422   73200.00   75800.00  32.171027   \n",
       "2   2019-01-03   74502.944671   75087.876912   73206.01   75770.91  32.681422   \n",
       "3   2019-01-04   73862.854180   74143.966128   73111.00   74992.99  63.488756   \n",
       "4   2019-01-05   74501.196250   74502.782839   73500.00   75340.12  43.711783   \n",
       "..         ...            ...            ...        ...        ...        ...   \n",
       "343 2019-12-10  140312.664853  141920.500901  138009.72  142536.45  42.952229   \n",
       "344 2019-12-11  137608.144227  139283.050570  132000.00  139900.00  35.334826   \n",
       "345 2019-12-12  136844.432405  136662.505259  135250.41  138699.98  25.641359   \n",
       "346 2019-12-13  137767.075557  137186.985455  136800.01  138799.97  39.382959   \n",
       "347 2019-12-14  136215.456165  138189.031451  133300.11  138488.46  32.294932   \n",
       "\n",
       "     buy  sell  \n",
       "0      0     1  \n",
       "1      0     1  \n",
       "2      0     1  \n",
       "3      1     0  \n",
       "4      1     0  \n",
       "..   ...   ...  \n",
       "343    0     1  \n",
       "344    1     0  \n",
       "345    0     1  \n",
       "346    0     1  \n",
       "347    0     1  \n",
       "\n",
       "[348 rows x 8 columns]"
      ]
     },
     "execution_count": 18,
     "metadata": {},
     "output_type": "execute_result"
    }
   ],
   "source": [
    "df_dum"
   ]
  },
  {
   "cell_type": "code",
   "execution_count": 19,
   "metadata": {},
   "outputs": [],
   "source": [
    "def stationary(df):\n",
    "    df['24h_avg_log'] = np.log(df['24h_avg'])\n",
    "    df['24h_avg_log_diff'] = df['24h_avg_log'] - df['24h_avg_log'].shift(1)\n",
    "    df['12h_avg_log'] = np.log(df['12h_avg'])\n",
    "    df['12h_avg_log_diff'] = df['24h_avg_log'] - df['24h_avg_log'].shift(1)\n",
    "    df['min_log'] = np.log(df['min'])\n",
    "    df['min_log_diff'] = df['24h_avg_log'] - df['24h_avg_log'].shift(1)\n",
    "    return df"
   ]
  },
  {
   "cell_type": "code",
   "execution_count": 20,
   "metadata": {},
   "outputs": [],
   "source": [
    "#stationary(df_dum)"
   ]
  },
  {
   "cell_type": "code",
   "execution_count": null,
   "metadata": {},
   "outputs": [],
   "source": []
  }
 ],
 "metadata": {
  "kernelspec": {
   "display_name": "Python 3",
   "language": "python",
   "name": "python3"
  },
  "language_info": {
   "codemirror_mode": {
    "name": "ipython",
    "version": 3
   },
   "file_extension": ".py",
   "mimetype": "text/x-python",
   "name": "python",
   "nbconvert_exporter": "python",
   "pygments_lexer": "ipython3",
   "version": "3.7.3"
  }
 },
 "nbformat": 4,
 "nbformat_minor": 2
}
