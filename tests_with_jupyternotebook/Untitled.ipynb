{
 "cells": [
  {
   "cell_type": "code",
   "execution_count": 1,
   "metadata": {},
   "outputs": [],
   "source": [
    "#Necesary imports.\n",
    "import bitso\n",
    "import pandas as pd\n",
    "import numpy as np\n",
    "from datetime import timezone\n",
    "import datetime\n",
    "from dateutil.tz import tzutc\n",
    "import time\n",
    "from fbprophet import Prophet\n",
    "import matplotlib.pyplot as plt\n",
    "from scipy.stats import boxcox\n",
    "import warnings\n",
    "warnings.filterwarnings('ignore')\n",
    "import plotly.offline\n",
    "from plotly import graph_objs as go"
   ]
  },
  {
   "cell_type": "code",
   "execution_count": 133,
   "metadata": {},
   "outputs": [],
   "source": [
    "df = pd.read_csv('data_2015.csv')"
   ]
  },
  {
   "cell_type": "code",
   "execution_count": 134,
   "metadata": {},
   "outputs": [],
   "source": [
    "df.date = df.date.astype('datetime64')"
   ]
  },
  {
   "cell_type": "code",
   "execution_count": 139,
   "metadata": {},
   "outputs": [],
   "source": [
    "#Creating a function that needs a data frame and a number(month) for input.\n",
    "def extraction(df, m):\n",
    "    #variable that get's just the row that matches the same month\n",
    "    f_df = df.loc[df['month'] == m]\n",
    "    #variable that stores the year\n",
    "    y = 2015\n",
    "    #variable that creates a list with the numbers of days of the month\n",
    "    days = list(f_df['day'].unique())\n",
    "    #varible that creates a empty dictionary\n",
    "    results = {}\n",
    "    #list with the names of the keys in the dictionary that the function returns.\n",
    "    nombres = ['date', '24h_avg', '12h_avg', 'min', 'max', 'volume', 'm_side']\n",
    "    \n",
    "    #for loop that creates new keys in the empty dictionary with a empty list as values.\n",
    "    for i in nombres:\n",
    "        results[i] = []\n",
    "    \n",
    "    #for that loops on each day in the list of the days of the month.\n",
    "    for e in days:\n",
    "        #variable that get's just the rows that match the day in the for loop.\n",
    "        ndf = f_df.loc[f_df.day == e]\n",
    "        #appending the results in each dictionary key.\n",
    "        results['date'].append(datetime.date(y, m, e))\n",
    "        results['24h_avg'].append(ndf.price.mean())\n",
    "        results['12h_avg'].append(ndf.price.loc[ndf.hour<12].mean())\n",
    "        results['max'].append(ndf.price.max())\n",
    "        results['min'].append(ndf.price.min())\n",
    "        results['volume'].append(ndf.volume.sum())\n",
    "        weight = ndf.side.value_counts().sum()\n",
    "        \n",
    "        if len(ndf.side.value_counts()) == 2:\n",
    "            buy = ndf.side.value_counts()['buy']/weight\n",
    "            sell = ndf.side.value_counts()['sell']/weight\n",
    "        else:\n",
    "            if ndf.side.value_counts().index == 'buy':\n",
    "                buy = ndf.side.value_counts().sum()/weight\n",
    "            else:\n",
    "                sell = ndf.side.value_counts().sum()/weight\n",
    "                \n",
    "        if buy>sell:\n",
    "            results['m_side'].append('buy')\n",
    "        else:\n",
    "            results['m_side'].append('sell')\n",
    "            \n",
    "    #returns the dictionary with the appended elements\n",
    "    return results"
   ]
  },
  {
   "cell_type": "code",
   "execution_count": 160,
   "metadata": {},
   "outputs": [],
   "source": [
    "all_df = pd.DataFrame(columns=['date', '24h_avg', '12h_avg', 'min', 'max', 'volume', 'm_side'])\n",
    "for i in df.month.unique():\n",
    "    df_new = pd.DataFrame.from_dict(extraction(df,i))\n",
    "    all_df = all_df.append(df_new)"
   ]
  },
  {
   "cell_type": "code",
   "execution_count": 167,
   "metadata": {},
   "outputs": [],
   "source": [
    "all_df.fillna(method='bfill', inplace=True)"
   ]
  },
  {
   "cell_type": "code",
   "execution_count": 169,
   "metadata": {},
   "outputs": [
    {
     "data": {
      "text/html": [
       "<div>\n",
       "<style scoped>\n",
       "    .dataframe tbody tr th:only-of-type {\n",
       "        vertical-align: middle;\n",
       "    }\n",
       "\n",
       "    .dataframe tbody tr th {\n",
       "        vertical-align: top;\n",
       "    }\n",
       "\n",
       "    .dataframe thead th {\n",
       "        text-align: right;\n",
       "    }\n",
       "</style>\n",
       "<table border=\"1\" class=\"dataframe\">\n",
       "  <thead>\n",
       "    <tr style=\"text-align: right;\">\n",
       "      <th></th>\n",
       "      <th>date</th>\n",
       "      <th>24h_avg</th>\n",
       "      <th>12h_avg</th>\n",
       "      <th>min</th>\n",
       "      <th>max</th>\n",
       "      <th>volume</th>\n",
       "      <th>m_side</th>\n",
       "    </tr>\n",
       "  </thead>\n",
       "  <tbody>\n",
       "    <tr>\n",
       "      <th>0</th>\n",
       "      <td>2015-01-02</td>\n",
       "      <td>4599.681818</td>\n",
       "      <td>4630.500000</td>\n",
       "      <td>4480</td>\n",
       "      <td>4647</td>\n",
       "      <td>1</td>\n",
       "      <td>sell</td>\n",
       "    </tr>\n",
       "    <tr>\n",
       "      <th>1</th>\n",
       "      <td>2015-01-03</td>\n",
       "      <td>4523.370370</td>\n",
       "      <td>4630.500000</td>\n",
       "      <td>4383</td>\n",
       "      <td>4660</td>\n",
       "      <td>5</td>\n",
       "      <td>buy</td>\n",
       "    </tr>\n",
       "    <tr>\n",
       "      <th>2</th>\n",
       "      <td>2015-01-04</td>\n",
       "      <td>4221.812500</td>\n",
       "      <td>4343.125000</td>\n",
       "      <td>3975</td>\n",
       "      <td>4455</td>\n",
       "      <td>0</td>\n",
       "      <td>buy</td>\n",
       "    </tr>\n",
       "    <tr>\n",
       "      <th>3</th>\n",
       "      <td>2015-01-05</td>\n",
       "      <td>4086.368421</td>\n",
       "      <td>4054.000000</td>\n",
       "      <td>3950</td>\n",
       "      <td>4150</td>\n",
       "      <td>4</td>\n",
       "      <td>sell</td>\n",
       "    </tr>\n",
       "    <tr>\n",
       "      <th>4</th>\n",
       "      <td>2015-01-06</td>\n",
       "      <td>4049.363636</td>\n",
       "      <td>4081.800000</td>\n",
       "      <td>3875</td>\n",
       "      <td>4225</td>\n",
       "      <td>2</td>\n",
       "      <td>sell</td>\n",
       "    </tr>\n",
       "    <tr>\n",
       "      <th>...</th>\n",
       "      <td>...</td>\n",
       "      <td>...</td>\n",
       "      <td>...</td>\n",
       "      <td>...</td>\n",
       "      <td>...</td>\n",
       "      <td>...</td>\n",
       "      <td>...</td>\n",
       "    </tr>\n",
       "    <tr>\n",
       "      <th>26</th>\n",
       "      <td>2015-12-27</td>\n",
       "      <td>7251.280488</td>\n",
       "      <td>7226.448276</td>\n",
       "      <td>7059</td>\n",
       "      <td>7339</td>\n",
       "      <td>3</td>\n",
       "      <td>sell</td>\n",
       "    </tr>\n",
       "    <tr>\n",
       "      <th>27</th>\n",
       "      <td>2015-12-28</td>\n",
       "      <td>7323.934010</td>\n",
       "      <td>7358.821918</td>\n",
       "      <td>7180</td>\n",
       "      <td>7412</td>\n",
       "      <td>5</td>\n",
       "      <td>sell</td>\n",
       "    </tr>\n",
       "    <tr>\n",
       "      <th>28</th>\n",
       "      <td>2015-12-29</td>\n",
       "      <td>7378.569892</td>\n",
       "      <td>7301.071429</td>\n",
       "      <td>7228</td>\n",
       "      <td>7580</td>\n",
       "      <td>54</td>\n",
       "      <td>sell</td>\n",
       "    </tr>\n",
       "    <tr>\n",
       "      <th>29</th>\n",
       "      <td>2015-12-30</td>\n",
       "      <td>7500.433333</td>\n",
       "      <td>7546.661765</td>\n",
       "      <td>7320</td>\n",
       "      <td>7695</td>\n",
       "      <td>5</td>\n",
       "      <td>sell</td>\n",
       "    </tr>\n",
       "    <tr>\n",
       "      <th>30</th>\n",
       "      <td>2015-12-31</td>\n",
       "      <td>7490.616822</td>\n",
       "      <td>7384.043478</td>\n",
       "      <td>7303</td>\n",
       "      <td>7692</td>\n",
       "      <td>25</td>\n",
       "      <td>sell</td>\n",
       "    </tr>\n",
       "  </tbody>\n",
       "</table>\n",
       "<p>364 rows × 7 columns</p>\n",
       "</div>"
      ],
      "text/plain": [
       "          date      24h_avg      12h_avg   min   max  volume m_side\n",
       "0   2015-01-02  4599.681818  4630.500000  4480  4647       1   sell\n",
       "1   2015-01-03  4523.370370  4630.500000  4383  4660       5    buy\n",
       "2   2015-01-04  4221.812500  4343.125000  3975  4455       0    buy\n",
       "3   2015-01-05  4086.368421  4054.000000  3950  4150       4   sell\n",
       "4   2015-01-06  4049.363636  4081.800000  3875  4225       2   sell\n",
       "..         ...          ...          ...   ...   ...     ...    ...\n",
       "26  2015-12-27  7251.280488  7226.448276  7059  7339       3   sell\n",
       "27  2015-12-28  7323.934010  7358.821918  7180  7412       5   sell\n",
       "28  2015-12-29  7378.569892  7301.071429  7228  7580      54   sell\n",
       "29  2015-12-30  7500.433333  7546.661765  7320  7695       5   sell\n",
       "30  2015-12-31  7490.616822  7384.043478  7303  7692      25   sell\n",
       "\n",
       "[364 rows x 7 columns]"
      ]
     },
     "execution_count": 169,
     "metadata": {},
     "output_type": "execute_result"
    }
   ],
   "source": [
    "all_df"
   ]
  },
  {
   "cell_type": "code",
   "execution_count": 170,
   "metadata": {},
   "outputs": [],
   "source": [
    "all_df.to_csv('df_2015.csv', index=False)"
   ]
  },
  {
   "cell_type": "code",
   "execution_count": 179,
   "metadata": {},
   "outputs": [],
   "source": [
    "uno = pd.read_csv('df_2014.csv')\n",
    "dos = pd.read_csv('df_2015.csv')\n",
    "tres = pd.concat([uno, dos], ignore_index=True)\n",
    "tres.to_csv('df14-15.csv', index=False)"
   ]
  },
  {
   "cell_type": "code",
   "execution_count": 177,
   "metadata": {},
   "outputs": [
    {
     "data": {
      "text/plain": [
       "<matplotlib.axes._subplots.AxesSubplot at 0x7fb4695cb7b8>"
      ]
     },
     "execution_count": 177,
     "metadata": {},
     "output_type": "execute_result"
    },
    {
     "data": {
      "image/png": "[encoded data removed]",
      "text/plain": [
       "<Figure size 432x288 with 1 Axes>"
      ]
     },
     "metadata": {
      "needs_background": "light"
     },
     "output_type": "display_data"
    }
   ],
   "source": []
  },
  {
   "cell_type": "code",
   "execution_count": null,
   "metadata": {},
   "outputs": [],
   "source": []
  }
 ],
 "metadata": {
  "kernelspec": {
   "display_name": "Python 3",
   "language": "python",
   "name": "python3"
  },
  "language_info": {
   "codemirror_mode": {
    "name": "ipython",
    "version": 3
   },
   "file_extension": ".py",
   "mimetype": "text/x-python",
   "name": "python",
   "nbconvert_exporter": "python",
   "pygments_lexer": "ipython3",
   "version": "3.7.3"
  }
 },
 "nbformat": 4,
 "nbformat_minor": 2
}
