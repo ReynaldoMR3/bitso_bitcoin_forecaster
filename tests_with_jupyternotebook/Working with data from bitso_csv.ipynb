{
 "cells": [
  {
   "cell_type": "code",
   "execution_count": 1,
   "metadata": {},
   "outputs": [],
   "source": [
    "import pandas as pd\n",
    "import numpy as np\n",
    "import datetime as dt"
   ]
  },
  {
   "cell_type": "code",
   "execution_count": 2,
   "metadata": {},
   "outputs": [],
   "source": [
    "df = pd.read_csv('../csv_files/btc_mxn_bitso.csv')"
   ]
  },
  {
   "cell_type": "code",
   "execution_count": 3,
   "metadata": {},
   "outputs": [],
   "source": [
    "df2 = pd.read_csv('../csv_files/btc_mxn_bitso_2.csv')"
   ]
  },
  {
   "cell_type": "code",
   "execution_count": 4,
   "metadata": {},
   "outputs": [],
   "source": [
    "df3 = pd.read_csv('../csv_files/btc_mxn_bitso_3.csv')"
   ]
  },
  {
   "cell_type": "code",
   "execution_count": 5,
   "metadata": {},
   "outputs": [],
   "source": [
    "df4 = pd.read_csv('../csv_files/btc_mxn_bitso_4.csv')"
   ]
  },
  {
   "cell_type": "code",
   "execution_count": 6,
   "metadata": {},
   "outputs": [],
   "source": [
    "df5 = pd.read_csv('../csv_files/btc_mxn_bitso_5.csv')"
   ]
  },
  {
   "cell_type": "code",
   "execution_count": 7,
   "metadata": {},
   "outputs": [],
   "source": [
    "df6 = pd.read_csv('../csv_files/btc_mxn_bitso_6.csv')"
   ]
  },
  {
   "cell_type": "code",
   "execution_count": 8,
   "metadata": {},
   "outputs": [],
   "source": [
    "btc_mxn = pd.concat([df6,df,df2,df3,df4,df5], ignore_index=True)"
   ]
  },
  {
   "cell_type": "code",
   "execution_count": 9,
   "metadata": {},
   "outputs": [
    {
     "data": {
      "text/html": [
       "<div>\n",
       "<style scoped>\n",
       "    .dataframe tbody tr th:only-of-type {\n",
       "        vertical-align: middle;\n",
       "    }\n",
       "\n",
       "    .dataframe tbody tr th {\n",
       "        vertical-align: top;\n",
       "    }\n",
       "\n",
       "    .dataframe thead th {\n",
       "        text-align: right;\n",
       "    }\n",
       "</style>\n",
       "<table border=\"1\" class=\"dataframe\">\n",
       "  <thead>\n",
       "    <tr style=\"text-align: right;\">\n",
       "      <th></th>\n",
       "      <th>price</th>\n",
       "      <th>volume</th>\n",
       "      <th>hour</th>\n",
       "      <th>date</th>\n",
       "      <th>side</th>\n",
       "    </tr>\n",
       "  </thead>\n",
       "  <tbody>\n",
       "    <tr>\n",
       "      <th>0</th>\n",
       "      <td>72842.33</td>\n",
       "      <td>0.027457</td>\n",
       "      <td>0</td>\n",
       "      <td>2019-01-01</td>\n",
       "      <td>sell</td>\n",
       "    </tr>\n",
       "    <tr>\n",
       "      <th>1</th>\n",
       "      <td>72280.00</td>\n",
       "      <td>0.024892</td>\n",
       "      <td>0</td>\n",
       "      <td>2019-01-01</td>\n",
       "      <td>buy</td>\n",
       "    </tr>\n",
       "    <tr>\n",
       "      <th>2</th>\n",
       "      <td>72330.00</td>\n",
       "      <td>0.009128</td>\n",
       "      <td>0</td>\n",
       "      <td>2019-01-01</td>\n",
       "      <td>buy</td>\n",
       "    </tr>\n",
       "    <tr>\n",
       "      <th>3</th>\n",
       "      <td>72338.19</td>\n",
       "      <td>0.008765</td>\n",
       "      <td>0</td>\n",
       "      <td>2019-01-01</td>\n",
       "      <td>buy</td>\n",
       "    </tr>\n",
       "    <tr>\n",
       "      <th>4</th>\n",
       "      <td>72334.12</td>\n",
       "      <td>0.039600</td>\n",
       "      <td>0</td>\n",
       "      <td>2019-01-01</td>\n",
       "      <td>buy</td>\n",
       "    </tr>\n",
       "  </tbody>\n",
       "</table>\n",
       "</div>"
      ],
      "text/plain": [
       "      price    volume  hour        date  side\n",
       "0  72842.33  0.027457     0  2019-01-01  sell\n",
       "1  72280.00  0.024892     0  2019-01-01   buy\n",
       "2  72330.00  0.009128     0  2019-01-01   buy\n",
       "3  72338.19  0.008765     0  2019-01-01   buy\n",
       "4  72334.12  0.039600     0  2019-01-01   buy"
      ]
     },
     "execution_count": 9,
     "metadata": {},
     "output_type": "execute_result"
    }
   ],
   "source": [
    "btc_mxn.head()"
   ]
  },
  {
   "cell_type": "code",
   "execution_count": 10,
   "metadata": {},
   "outputs": [
    {
     "name": "stdout",
     "output_type": "stream",
     "text": [
      "<class 'pandas.core.frame.DataFrame'>\n",
      "RangeIndex: 365881 entries, 0 to 365880\n",
      "Data columns (total 5 columns):\n",
      "price     365881 non-null float64\n",
      "volume    365881 non-null float64\n",
      "hour      365881 non-null int64\n",
      "date      365881 non-null object\n",
      "side      365881 non-null object\n",
      "dtypes: float64(2), int64(1), object(2)\n",
      "memory usage: 14.0+ MB\n"
     ]
    }
   ],
   "source": [
    "btc_mxn.info()"
   ]
  },
  {
   "cell_type": "code",
   "execution_count": 11,
   "metadata": {},
   "outputs": [],
   "source": [
    "btc_mxn.date = btc_mxn.date.astype('datetime64')"
   ]
  },
  {
   "cell_type": "code",
   "execution_count": 12,
   "metadata": {},
   "outputs": [],
   "source": [
    "btc_mxn['month'] = [i.month for i in btc_mxn.date]"
   ]
  },
  {
   "cell_type": "code",
   "execution_count": 13,
   "metadata": {},
   "outputs": [],
   "source": [
    "btc_mxn['day'] = [i.day for i in btc_mxn.date]"
   ]
  },
  {
   "cell_type": "code",
   "execution_count": 14,
   "metadata": {},
   "outputs": [],
   "source": [
    "btc_mxn = btc_mxn.drop_duplicates()"
   ]
  },
  {
   "cell_type": "code",
   "execution_count": 15,
   "metadata": {},
   "outputs": [
    {
     "data": {
      "text/html": [
       "<div>\n",
       "<style scoped>\n",
       "    .dataframe tbody tr th:only-of-type {\n",
       "        vertical-align: middle;\n",
       "    }\n",
       "\n",
       "    .dataframe tbody tr th {\n",
       "        vertical-align: top;\n",
       "    }\n",
       "\n",
       "    .dataframe thead th {\n",
       "        text-align: right;\n",
       "    }\n",
       "</style>\n",
       "<table border=\"1\" class=\"dataframe\">\n",
       "  <thead>\n",
       "    <tr style=\"text-align: right;\">\n",
       "      <th></th>\n",
       "      <th>price</th>\n",
       "      <th>volume</th>\n",
       "      <th>hour</th>\n",
       "      <th>date</th>\n",
       "      <th>side</th>\n",
       "      <th>month</th>\n",
       "      <th>day</th>\n",
       "    </tr>\n",
       "  </thead>\n",
       "  <tbody>\n",
       "    <tr>\n",
       "      <th>0</th>\n",
       "      <td>72842.33</td>\n",
       "      <td>0.027457</td>\n",
       "      <td>0</td>\n",
       "      <td>2019-01-01</td>\n",
       "      <td>sell</td>\n",
       "      <td>1</td>\n",
       "      <td>1</td>\n",
       "    </tr>\n",
       "    <tr>\n",
       "      <th>1</th>\n",
       "      <td>72280.00</td>\n",
       "      <td>0.024892</td>\n",
       "      <td>0</td>\n",
       "      <td>2019-01-01</td>\n",
       "      <td>buy</td>\n",
       "      <td>1</td>\n",
       "      <td>1</td>\n",
       "    </tr>\n",
       "    <tr>\n",
       "      <th>2</th>\n",
       "      <td>72330.00</td>\n",
       "      <td>0.009128</td>\n",
       "      <td>0</td>\n",
       "      <td>2019-01-01</td>\n",
       "      <td>buy</td>\n",
       "      <td>1</td>\n",
       "      <td>1</td>\n",
       "    </tr>\n",
       "    <tr>\n",
       "      <th>3</th>\n",
       "      <td>72338.19</td>\n",
       "      <td>0.008765</td>\n",
       "      <td>0</td>\n",
       "      <td>2019-01-01</td>\n",
       "      <td>buy</td>\n",
       "      <td>1</td>\n",
       "      <td>1</td>\n",
       "    </tr>\n",
       "    <tr>\n",
       "      <th>4</th>\n",
       "      <td>72334.12</td>\n",
       "      <td>0.039600</td>\n",
       "      <td>0</td>\n",
       "      <td>2019-01-01</td>\n",
       "      <td>buy</td>\n",
       "      <td>1</td>\n",
       "      <td>1</td>\n",
       "    </tr>\n",
       "    <tr>\n",
       "      <th>...</th>\n",
       "      <td>...</td>\n",
       "      <td>...</td>\n",
       "      <td>...</td>\n",
       "      <td>...</td>\n",
       "      <td>...</td>\n",
       "      <td>...</td>\n",
       "      <td>...</td>\n",
       "    </tr>\n",
       "    <tr>\n",
       "      <th>365876</th>\n",
       "      <td>134793.73</td>\n",
       "      <td>0.005193</td>\n",
       "      <td>1</td>\n",
       "      <td>2019-12-15</td>\n",
       "      <td>sell</td>\n",
       "      <td>12</td>\n",
       "      <td>15</td>\n",
       "    </tr>\n",
       "    <tr>\n",
       "      <th>365877</th>\n",
       "      <td>134633.66</td>\n",
       "      <td>0.002926</td>\n",
       "      <td>1</td>\n",
       "      <td>2019-12-15</td>\n",
       "      <td>sell</td>\n",
       "      <td>12</td>\n",
       "      <td>15</td>\n",
       "    </tr>\n",
       "    <tr>\n",
       "      <th>365878</th>\n",
       "      <td>134146.64</td>\n",
       "      <td>0.001717</td>\n",
       "      <td>1</td>\n",
       "      <td>2019-12-15</td>\n",
       "      <td>buy</td>\n",
       "      <td>12</td>\n",
       "      <td>15</td>\n",
       "    </tr>\n",
       "    <tr>\n",
       "      <th>365879</th>\n",
       "      <td>134146.64</td>\n",
       "      <td>0.001807</td>\n",
       "      <td>1</td>\n",
       "      <td>2019-12-15</td>\n",
       "      <td>buy</td>\n",
       "      <td>12</td>\n",
       "      <td>15</td>\n",
       "    </tr>\n",
       "    <tr>\n",
       "      <th>365880</th>\n",
       "      <td>134146.64</td>\n",
       "      <td>0.008997</td>\n",
       "      <td>1</td>\n",
       "      <td>2019-12-15</td>\n",
       "      <td>buy</td>\n",
       "      <td>12</td>\n",
       "      <td>15</td>\n",
       "    </tr>\n",
       "  </tbody>\n",
       "</table>\n",
       "<p>309281 rows × 7 columns</p>\n",
       "</div>"
      ],
      "text/plain": [
       "            price    volume  hour       date  side  month  day\n",
       "0        72842.33  0.027457     0 2019-01-01  sell      1    1\n",
       "1        72280.00  0.024892     0 2019-01-01   buy      1    1\n",
       "2        72330.00  0.009128     0 2019-01-01   buy      1    1\n",
       "3        72338.19  0.008765     0 2019-01-01   buy      1    1\n",
       "4        72334.12  0.039600     0 2019-01-01   buy      1    1\n",
       "...           ...       ...   ...        ...   ...    ...  ...\n",
       "365876  134793.73  0.005193     1 2019-12-15  sell     12   15\n",
       "365877  134633.66  0.002926     1 2019-12-15  sell     12   15\n",
       "365878  134146.64  0.001717     1 2019-12-15   buy     12   15\n",
       "365879  134146.64  0.001807     1 2019-12-15   buy     12   15\n",
       "365880  134146.64  0.008997     1 2019-12-15   buy     12   15\n",
       "\n",
       "[309281 rows x 7 columns]"
      ]
     },
     "execution_count": 15,
     "metadata": {},
     "output_type": "execute_result"
    }
   ],
   "source": [
    "btc_mxn"
   ]
  },
  {
   "cell_type": "code",
   "execution_count": 17,
   "metadata": {},
   "outputs": [],
   "source": [
    "def extraction(df, m):\n",
    "    f_df = df.loc[df['month'] == m]\n",
    "    y = 2019\n",
    "    days = list(f_df['day'].unique())\n",
    "    results = {}\n",
    "    nombres = ['date', '24h_avg', '12h_avg', 'min', 'max', 'volume', 'm_side']\n",
    "    \n",
    "    for i in nombres:\n",
    "        results[i] = []\n",
    "    \n",
    "    for e in days:\n",
    "        ndf = f_df.loc[f_df.day == e]\n",
    "        results['date'].append(dt.date(y, m, e))\n",
    "        results['24h_avg'].append(ndf.price.mean())\n",
    "        results['12h_avg'].append(ndf.price.loc[ndf.hour<12].mean())\n",
    "        results['max'].append(ndf.price.max())\n",
    "        results['min'].append(ndf.price.min())\n",
    "        results['volume'].append(ndf.volume.sum())\n",
    "        weight = ndf.side.value_counts().sum()\n",
    "        buy = ndf.side.value_counts()['buy']/weight\n",
    "        sell = ndf.side.value_counts()['sell']/weight\n",
    "        results['m_side'].append(np.where(buy > sell, 'buy', 'sell'))\n",
    "    \n",
    "    return results"
   ]
  },
  {
   "cell_type": "code",
   "execution_count": 44,
   "metadata": {},
   "outputs": [],
   "source": [
    "df1 = pd.DataFrame.from_dict(extraction(btc_mxn, 1))\n",
    "df2 = pd.DataFrame.from_dict(extraction(btc_mxn, 2))\n",
    "df3 = pd.DataFrame.from_dict(extraction(btc_mxn, 3))\n",
    "df4 = pd.DataFrame.from_dict(extraction(btc_mxn, 4))\n",
    "df5 = pd.DataFrame.from_dict(extraction(btc_mxn, 5))\n",
    "df6 = pd.DataFrame.from_dict(extraction(btc_mxn, 6))\n",
    "df7 = pd.DataFrame.from_dict(extraction(btc_mxn, 7))\n",
    "df8 = pd.DataFrame.from_dict(extraction(btc_mxn, 8))\n",
    "df9 = pd.DataFrame.from_dict(extraction(btc_mxn, 9))\n",
    "df10 = pd.DataFrame.from_dict(extraction(btc_mxn, 10))\n",
    "df11 = pd.DataFrame.from_dict(extraction(btc_mxn, 11))\n",
    "df12 = pd.DataFrame.from_dict(extraction(btc_mxn, 12))"
   ]
  },
  {
   "cell_type": "code",
   "execution_count": 1,
   "metadata": {},
   "outputs": [],
   "source": [
    "import datetime"
   ]
  },
  {
   "cell_type": "code",
   "execution_count": 4,
   "metadata": {},
   "outputs": [
    {
     "data": {
      "text/plain": [
       "12"
      ]
     },
     "execution_count": 4,
     "metadata": {},
     "output_type": "execute_result"
    }
   ],
   "source": [
    "datetime.datetime.today().month"
   ]
  },
  {
   "cell_type": "code",
   "execution_count": 45,
   "metadata": {},
   "outputs": [],
   "source": [
    "second_semester = pd.concat([df1,df2,df3,df4,df5,df6,df7,df8,df9,df10,df11,df12], ignore_index=True, )"
   ]
  },
  {
   "cell_type": "code",
   "execution_count": 46,
   "metadata": {},
   "outputs": [],
   "source": [
    "second_semester.drop(second_semester.tail(1).index,inplace=True)"
   ]
  },
  {
   "cell_type": "code",
   "execution_count": 51,
   "metadata": {},
   "outputs": [],
   "source": [
    "second_semester.to_csv('../csv_files/btc_mxn_bitso_19_12_14.csv', index=False)"
   ]
  },
  {
   "cell_type": "code",
   "execution_count": 5,
   "metadata": {},
   "outputs": [
    {
     "ename": "NameError",
     "evalue": "name 'second_semester' is not defined",
     "output_type": "error",
     "traceback": [
      "\u001b[0;31m---------------------------------------------------------------------------\u001b[0m",
      "\u001b[0;31mNameError\u001b[0m                                 Traceback (most recent call last)",
      "\u001b[0;32m<ipython-input-5-4423e6813a65>\u001b[0m in \u001b[0;36m<module>\u001b[0;34m\u001b[0m\n\u001b[0;32m----> 1\u001b[0;31m \u001b[0msecond_semester\u001b[0m\u001b[0;34m.\u001b[0m\u001b[0minfo\u001b[0m\u001b[0;34m(\u001b[0m\u001b[0;34m)\u001b[0m\u001b[0;34m\u001b[0m\u001b[0;34m\u001b[0m\u001b[0m\n\u001b[0m",
      "\u001b[0;31mNameError\u001b[0m: name 'second_semester' is not defined"
     ]
    }
   ],
   "source": [
    "second_semester.info()"
   ]
  },
  {
   "cell_type": "code",
   "execution_count": null,
   "metadata": {},
   "outputs": [],
   "source": []
  }
 ],
 "metadata": {
  "kernelspec": {
   "display_name": "Python 3",
   "language": "python",
   "name": "python3"
  },
  "language_info": {
   "codemirror_mode": {
    "name": "ipython",
    "version": 3
   },
   "file_extension": ".py",
   "mimetype": "text/x-python",
   "name": "python",
   "nbconvert_exporter": "python",
   "pygments_lexer": "ipython3",
   "version": "3.7.3"
  }
 },
 "nbformat": 4,
 "nbformat_minor": 2
}
