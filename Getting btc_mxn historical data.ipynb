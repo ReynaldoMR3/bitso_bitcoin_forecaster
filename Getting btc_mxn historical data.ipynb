{
 "cells": [
  {
   "cell_type": "code",
   "execution_count": 1,
   "metadata": {},
   "outputs": [],
   "source": [
    "import quandl"
   ]
  },
  {
   "cell_type": "code",
   "execution_count": 2,
   "metadata": {},
   "outputs": [],
   "source": [
    "data = quandl.get(\"LOCALBTC/MXN\", authtoken=\"ea2BgPgsPbimc87NDXxT\")"
   ]
  },
  {
   "cell_type": "code",
   "execution_count": 3,
   "metadata": {},
   "outputs": [],
   "source": [
    "data.reset_index(level=0, inplace=True)"
   ]
  },
  {
   "cell_type": "code",
   "execution_count": 4,
   "metadata": {},
   "outputs": [],
   "source": [
    "data.to_csv('btc_mxn_db.csv', index=False)"
   ]
  },
  {
   "cell_type": "code",
   "execution_count": 5,
   "metadata": {},
   "outputs": [
    {
     "data": {
      "text/html": [
       "<div>\n",
       "<style scoped>\n",
       "    .dataframe tbody tr th:only-of-type {\n",
       "        vertical-align: middle;\n",
       "    }\n",
       "\n",
       "    .dataframe tbody tr th {\n",
       "        vertical-align: top;\n",
       "    }\n",
       "\n",
       "    .dataframe thead th {\n",
       "        text-align: right;\n",
       "    }\n",
       "</style>\n",
       "<table border=\"1\" class=\"dataframe\">\n",
       "  <thead>\n",
       "    <tr style=\"text-align: right;\">\n",
       "      <th></th>\n",
       "      <th>Date</th>\n",
       "      <th>24h Average</th>\n",
       "      <th>12h Average</th>\n",
       "      <th>Last</th>\n",
       "      <th>Volume (BTC)</th>\n",
       "    </tr>\n",
       "  </thead>\n",
       "  <tbody>\n",
       "    <tr>\n",
       "      <th>0</th>\n",
       "      <td>2014-04-15</td>\n",
       "      <td>6762.23</td>\n",
       "      <td>6864.03</td>\n",
       "      <td>7500.00</td>\n",
       "      <td>10.540000</td>\n",
       "    </tr>\n",
       "    <tr>\n",
       "      <th>1</th>\n",
       "      <td>2014-04-16</td>\n",
       "      <td>6900.09</td>\n",
       "      <td>6892.85</td>\n",
       "      <td>7128.84</td>\n",
       "      <td>11.770000</td>\n",
       "    </tr>\n",
       "    <tr>\n",
       "      <th>2</th>\n",
       "      <td>2014-04-17</td>\n",
       "      <td>7126.44</td>\n",
       "      <td>6917.98</td>\n",
       "      <td>6985.55</td>\n",
       "      <td>5.760000</td>\n",
       "    </tr>\n",
       "    <tr>\n",
       "      <th>3</th>\n",
       "      <td>2014-04-18</td>\n",
       "      <td>6909.36</td>\n",
       "      <td>6874.22</td>\n",
       "      <td>6679.72</td>\n",
       "      <td>3.700000</td>\n",
       "    </tr>\n",
       "    <tr>\n",
       "      <th>4</th>\n",
       "      <td>2014-04-19</td>\n",
       "      <td>6889.90</td>\n",
       "      <td>6889.71</td>\n",
       "      <td>7041.87</td>\n",
       "      <td>1.530000</td>\n",
       "    </tr>\n",
       "    <tr>\n",
       "      <th>...</th>\n",
       "      <td>...</td>\n",
       "      <td>...</td>\n",
       "      <td>...</td>\n",
       "      <td>...</td>\n",
       "      <td>...</td>\n",
       "    </tr>\n",
       "    <tr>\n",
       "      <th>1910</th>\n",
       "      <td>2019-12-07</td>\n",
       "      <td>150788.19</td>\n",
       "      <td>150610.99</td>\n",
       "      <td>153071.38</td>\n",
       "      <td>2.897516</td>\n",
       "    </tr>\n",
       "    <tr>\n",
       "      <th>1911</th>\n",
       "      <td>2019-12-08</td>\n",
       "      <td>151271.67</td>\n",
       "      <td>152582.02</td>\n",
       "      <td>153047.95</td>\n",
       "      <td>1.480131</td>\n",
       "    </tr>\n",
       "    <tr>\n",
       "      <th>1912</th>\n",
       "      <td>2019-12-09</td>\n",
       "      <td>145530.12</td>\n",
       "      <td>145298.81</td>\n",
       "      <td>146289.83</td>\n",
       "      <td>8.048404</td>\n",
       "    </tr>\n",
       "    <tr>\n",
       "      <th>1913</th>\n",
       "      <td>2019-12-10</td>\n",
       "      <td>146385.56</td>\n",
       "      <td>145321.43</td>\n",
       "      <td>139013.01</td>\n",
       "      <td>5.670937</td>\n",
       "    </tr>\n",
       "    <tr>\n",
       "      <th>1914</th>\n",
       "      <td>2019-12-11</td>\n",
       "      <td>143228.17</td>\n",
       "      <td>142438.13</td>\n",
       "      <td>146450.34</td>\n",
       "      <td>3.784957</td>\n",
       "    </tr>\n",
       "  </tbody>\n",
       "</table>\n",
       "<p>1915 rows × 5 columns</p>\n",
       "</div>"
      ],
      "text/plain": [
       "           Date  24h Average  12h Average       Last  Volume (BTC)\n",
       "0    2014-04-15      6762.23      6864.03    7500.00     10.540000\n",
       "1    2014-04-16      6900.09      6892.85    7128.84     11.770000\n",
       "2    2014-04-17      7126.44      6917.98    6985.55      5.760000\n",
       "3    2014-04-18      6909.36      6874.22    6679.72      3.700000\n",
       "4    2014-04-19      6889.90      6889.71    7041.87      1.530000\n",
       "...         ...          ...          ...        ...           ...\n",
       "1910 2019-12-07    150788.19    150610.99  153071.38      2.897516\n",
       "1911 2019-12-08    151271.67    152582.02  153047.95      1.480131\n",
       "1912 2019-12-09    145530.12    145298.81  146289.83      8.048404\n",
       "1913 2019-12-10    146385.56    145321.43  139013.01      5.670937\n",
       "1914 2019-12-11    143228.17    142438.13  146450.34      3.784957\n",
       "\n",
       "[1915 rows x 5 columns]"
      ]
     },
     "execution_count": 5,
     "metadata": {},
     "output_type": "execute_result"
    }
   ],
   "source": []
  },
  {
   "cell_type": "code",
   "execution_count": null,
   "metadata": {},
   "outputs": [],
   "source": []
  }
 ],
 "metadata": {
  "kernelspec": {
   "display_name": "Python 3",
   "language": "python",
   "name": "python3"
  },
  "language_info": {
   "codemirror_mode": {
    "name": "ipython",
    "version": 3
   },
   "file_extension": ".py",
   "mimetype": "text/x-python",
   "name": "python",
   "nbconvert_exporter": "python",
   "pygments_lexer": "ipython3",
   "version": "3.7.3"
  }
 },
 "nbformat": 4,
 "nbformat_minor": 2
}
