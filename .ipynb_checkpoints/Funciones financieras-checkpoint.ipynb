{
 "cells": [
  {
   "cell_type": "code",
   "execution_count": 6,
   "metadata": {},
   "outputs": [],
   "source": [
    "from scipy.optimize import newton"
   ]
  },
  {
   "cell_type": "code",
   "execution_count": 3,
   "metadata": {},
   "outputs": [],
   "source": [
    "def roi(r, i):\n",
    "    '''\n",
    "    Esta función recibe como parametros la ganancia de la inversión(r)\n",
    "    y la inversión(i)\n",
    "    El retorno de inversión nos ayuda a conocer en forma de porcentaje la \n",
    "    ganancia obtenida por nuestra inversión pero no nos dice cuanto tiempo\n",
    "    tardo en obtenerse esa ganancia\n",
    "    '''\n",
    "    return (r-i)/i"
   ]
  },
  {
   "cell_type": "code",
   "execution_count": 4,
   "metadata": {},
   "outputs": [
    {
     "name": "stdout",
     "output_type": "stream",
     "text": [
      "2.0\n"
     ]
    }
   ],
   "source": [
    "print(roi(900, 300))"
   ]
  },
  {
   "cell_type": "code",
   "execution_count": 5,
   "metadata": {},
   "outputs": [],
   "source": [
    "def xnpv(d, v, f):\n",
    "    '''\n",
    "    Esta función nos devuelve el valor neto actual para un flujo de caja que no es necesariamente periódico.\n",
    "    d = descuento ej(0.05)\n",
    "    v = valores, panda.series que contenga diferentes totales (resta entre costo y ganancia)\n",
    "    f = fechas, panda.series que contenga fechas\n",
    "    '''\n",
    "    min_d = min(d)\n",
    "    return sum([v/(1+rate)**((d-min_d).days/365) for v, d in zip(v,d)])"
   ]
  },
  {
   "cell_type": "code",
   "execution_count": 8,
   "metadata": {},
   "outputs": [],
   "source": [
    "def xirr(v, f):\n",
    "    '''\n",
    "    Esta función replica a xnpv pero ayuda a calcular el descuento (d en xnpv) que se acerque màs a 0\n",
    "    para poder tener en porcentaje la tasa interna de retorno para un flujo que no es necesariamente periódico\n",
    "    '''\n",
    "    return newton(lambda r: xnpv(d, v, f), 0)"
   ]
  },
  {
   "cell_type": "code",
   "execution_count": null,
   "metadata": {},
   "outputs": [],
   "source": []
  }
 ],
 "metadata": {
  "kernelspec": {
   "display_name": "Python 3",
   "language": "python",
   "name": "python3"
  },
  "language_info": {
   "codemirror_mode": {
    "name": "ipython",
    "version": 3
   },
   "file_extension": ".py",
   "mimetype": "text/x-python",
   "name": "python",
   "nbconvert_exporter": "python",
   "pygments_lexer": "ipython3",
   "version": "3.7.3"
  }
 },
 "nbformat": 4,
 "nbformat_minor": 2
}
