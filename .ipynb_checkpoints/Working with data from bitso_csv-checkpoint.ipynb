{
 "cells": [
  {
   "cell_type": "code",
   "execution_count": 1,
   "metadata": {},
   "outputs": [],
   "source": [
    "import pandas as pd\n",
    "import numpy as np\n",
    "import datetime as dt"
   ]
  },
  {
   "cell_type": "code",
   "execution_count": 2,
   "metadata": {},
   "outputs": [],
   "source": [
    "df = pd.read_csv('csv_files/btc_mxn_bitso.csv')"
   ]
  },
  {
   "cell_type": "code",
   "execution_count": 3,
   "metadata": {},
   "outputs": [],
   "source": [
    "df2 = pd.read_csv('csv_files/btc_mxn_bitso_2.csv')"
   ]
  },
  {
   "cell_type": "code",
   "execution_count": 4,
   "metadata": {},
   "outputs": [],
   "source": [
    "df3 = pd.read_csv('csv_files/btc_mxn_bitso_3.csv')"
   ]
  },
  {
   "cell_type": "code",
   "execution_count": 5,
   "metadata": {},
   "outputs": [],
   "source": [
    "df4 = pd.read_csv('csv_files/btc_mxn_bitso_4.csv')"
   ]
  },
  {
   "cell_type": "code",
   "execution_count": 6,
   "metadata": {},
   "outputs": [],
   "source": [
    "df5 = pd.read_csv('csv_files/btc_mxn_bitso_5.csv')"
   ]
  },
  {
   "cell_type": "code",
   "execution_count": 7,
   "metadata": {},
   "outputs": [],
   "source": [
    "btc_mxn = pd.concat([df,df2,df3,df4,df5], ignore_index=True)"
   ]
  },
  {
   "cell_type": "code",
   "execution_count": 8,
   "metadata": {},
   "outputs": [
    {
     "data": {
      "text/html": [
       "<div>\n",
       "<style scoped>\n",
       "    .dataframe tbody tr th:only-of-type {\n",
       "        vertical-align: middle;\n",
       "    }\n",
       "\n",
       "    .dataframe tbody tr th {\n",
       "        vertical-align: top;\n",
       "    }\n",
       "\n",
       "    .dataframe thead th {\n",
       "        text-align: right;\n",
       "    }\n",
       "</style>\n",
       "<table border=\"1\" class=\"dataframe\">\n",
       "  <thead>\n",
       "    <tr style=\"text-align: right;\">\n",
       "      <th></th>\n",
       "      <th>price</th>\n",
       "      <th>volume</th>\n",
       "      <th>hour</th>\n",
       "      <th>date</th>\n",
       "      <th>side</th>\n",
       "    </tr>\n",
       "  </thead>\n",
       "  <tbody>\n",
       "    <tr>\n",
       "      <th>0</th>\n",
       "      <td>170495.00</td>\n",
       "      <td>0.002933</td>\n",
       "      <td>0</td>\n",
       "      <td>2019-06-01</td>\n",
       "      <td>sell</td>\n",
       "    </tr>\n",
       "    <tr>\n",
       "      <th>1</th>\n",
       "      <td>170495.99</td>\n",
       "      <td>0.104086</td>\n",
       "      <td>0</td>\n",
       "      <td>2019-06-01</td>\n",
       "      <td>sell</td>\n",
       "    </tr>\n",
       "    <tr>\n",
       "      <th>2</th>\n",
       "      <td>170495.99</td>\n",
       "      <td>0.037139</td>\n",
       "      <td>0</td>\n",
       "      <td>2019-06-01</td>\n",
       "      <td>sell</td>\n",
       "    </tr>\n",
       "    <tr>\n",
       "      <th>3</th>\n",
       "      <td>170493.39</td>\n",
       "      <td>0.018463</td>\n",
       "      <td>0</td>\n",
       "      <td>2019-06-01</td>\n",
       "      <td>sell</td>\n",
       "    </tr>\n",
       "    <tr>\n",
       "      <th>4</th>\n",
       "      <td>170490.46</td>\n",
       "      <td>0.006197</td>\n",
       "      <td>0</td>\n",
       "      <td>2019-06-01</td>\n",
       "      <td>sell</td>\n",
       "    </tr>\n",
       "  </tbody>\n",
       "</table>\n",
       "</div>"
      ],
      "text/plain": [
       "       price    volume  hour        date  side\n",
       "0  170495.00  0.002933     0  2019-06-01  sell\n",
       "1  170495.99  0.104086     0  2019-06-01  sell\n",
       "2  170495.99  0.037139     0  2019-06-01  sell\n",
       "3  170493.39  0.018463     0  2019-06-01  sell\n",
       "4  170490.46  0.006197     0  2019-06-01  sell"
      ]
     },
     "execution_count": 8,
     "metadata": {},
     "output_type": "execute_result"
    }
   ],
   "source": [
    "btc_mxn.head()"
   ]
  },
  {
   "cell_type": "code",
   "execution_count": 9,
   "metadata": {},
   "outputs": [
    {
     "name": "stdout",
     "output_type": "stream",
     "text": [
      "<class 'pandas.core.frame.DataFrame'>\n",
      "RangeIndex: 197868 entries, 0 to 197867\n",
      "Data columns (total 5 columns):\n",
      "price     197868 non-null float64\n",
      "volume    197868 non-null float64\n",
      "hour      197868 non-null int64\n",
      "date      197868 non-null object\n",
      "side      197868 non-null object\n",
      "dtypes: float64(2), int64(1), object(2)\n",
      "memory usage: 7.5+ MB\n"
     ]
    }
   ],
   "source": [
    "btc_mxn.info()"
   ]
  },
  {
   "cell_type": "code",
   "execution_count": 10,
   "metadata": {},
   "outputs": [],
   "source": [
    "btc_mxn.date = btc_mxn.date.astype('datetime64')"
   ]
  },
  {
   "cell_type": "code",
   "execution_count": 11,
   "metadata": {},
   "outputs": [],
   "source": [
    "btc_mxn['month'] = [i.month for i in btc_mxn.date]"
   ]
  },
  {
   "cell_type": "code",
   "execution_count": 12,
   "metadata": {},
   "outputs": [],
   "source": [
    "btc_mxn['day'] = [i.day for i in btc_mxn.date]"
   ]
  },
  {
   "cell_type": "code",
   "execution_count": 13,
   "metadata": {},
   "outputs": [],
   "source": [
    "filter_df = btc_mxn.loc[(btc_mxn.month==6) & (btc_mxn.day==1)]"
   ]
  },
  {
   "cell_type": "code",
   "execution_count": 14,
   "metadata": {},
   "outputs": [
    {
     "data": {
      "text/html": [
       "<div>\n",
       "<style scoped>\n",
       "    .dataframe tbody tr th:only-of-type {\n",
       "        vertical-align: middle;\n",
       "    }\n",
       "\n",
       "    .dataframe tbody tr th {\n",
       "        vertical-align: top;\n",
       "    }\n",
       "\n",
       "    .dataframe thead th {\n",
       "        text-align: right;\n",
       "    }\n",
       "</style>\n",
       "<table border=\"1\" class=\"dataframe\">\n",
       "  <thead>\n",
       "    <tr style=\"text-align: right;\">\n",
       "      <th></th>\n",
       "      <th>price</th>\n",
       "      <th>volume</th>\n",
       "      <th>hour</th>\n",
       "      <th>date</th>\n",
       "      <th>side</th>\n",
       "      <th>month</th>\n",
       "      <th>day</th>\n",
       "    </tr>\n",
       "  </thead>\n",
       "  <tbody>\n",
       "    <tr>\n",
       "      <th>904</th>\n",
       "      <td>170415.59</td>\n",
       "      <td>0.000498</td>\n",
       "      <td>23</td>\n",
       "      <td>2019-06-01</td>\n",
       "      <td>sell</td>\n",
       "      <td>6</td>\n",
       "      <td>1</td>\n",
       "    </tr>\n",
       "    <tr>\n",
       "      <th>905</th>\n",
       "      <td>170398.73</td>\n",
       "      <td>0.005869</td>\n",
       "      <td>23</td>\n",
       "      <td>2019-06-01</td>\n",
       "      <td>sell</td>\n",
       "      <td>6</td>\n",
       "      <td>1</td>\n",
       "    </tr>\n",
       "    <tr>\n",
       "      <th>906</th>\n",
       "      <td>169950.00</td>\n",
       "      <td>0.014736</td>\n",
       "      <td>23</td>\n",
       "      <td>2019-06-01</td>\n",
       "      <td>buy</td>\n",
       "      <td>6</td>\n",
       "      <td>1</td>\n",
       "    </tr>\n",
       "    <tr>\n",
       "      <th>907</th>\n",
       "      <td>169950.00</td>\n",
       "      <td>0.010661</td>\n",
       "      <td>23</td>\n",
       "      <td>2019-06-01</td>\n",
       "      <td>buy</td>\n",
       "      <td>6</td>\n",
       "      <td>1</td>\n",
       "    </tr>\n",
       "    <tr>\n",
       "      <th>908</th>\n",
       "      <td>169950.00</td>\n",
       "      <td>0.000800</td>\n",
       "      <td>23</td>\n",
       "      <td>2019-06-01</td>\n",
       "      <td>buy</td>\n",
       "      <td>6</td>\n",
       "      <td>1</td>\n",
       "    </tr>\n",
       "  </tbody>\n",
       "</table>\n",
       "</div>"
      ],
      "text/plain": [
       "         price    volume  hour       date  side  month  day\n",
       "904  170415.59  0.000498    23 2019-06-01  sell      6    1\n",
       "905  170398.73  0.005869    23 2019-06-01  sell      6    1\n",
       "906  169950.00  0.014736    23 2019-06-01   buy      6    1\n",
       "907  169950.00  0.010661    23 2019-06-01   buy      6    1\n",
       "908  169950.00  0.000800    23 2019-06-01   buy      6    1"
      ]
     },
     "execution_count": 14,
     "metadata": {},
     "output_type": "execute_result"
    }
   ],
   "source": [
    "filter_df.tail()"
   ]
  },
  {
   "cell_type": "code",
   "execution_count": 15,
   "metadata": {},
   "outputs": [
    {
     "data": {
      "text/plain": [
       "170999.99"
      ]
     },
     "execution_count": 15,
     "metadata": {},
     "output_type": "execute_result"
    }
   ],
   "source": [
    "filter_df.price.max()"
   ]
  },
  {
   "cell_type": "code",
   "execution_count": 16,
   "metadata": {},
   "outputs": [],
   "source": [
    "filter_df = btc_mxn.loc[(btc_mxn.month==6)]"
   ]
  },
  {
   "cell_type": "code",
   "execution_count": 17,
   "metadata": {},
   "outputs": [
    {
     "data": {
      "text/plain": [
       "2019"
      ]
     },
     "execution_count": 17,
     "metadata": {},
     "output_type": "execute_result"
    }
   ],
   "source": [
    "filter_df.loc[0].date.year"
   ]
  },
  {
   "cell_type": "code",
   "execution_count": 18,
   "metadata": {},
   "outputs": [
    {
     "name": "stdout",
     "output_type": "stream",
     "text": [
      "[datetime.date(2019, 6, 1), datetime.date(2019, 6, 2), datetime.date(2019, 6, 3), datetime.date(2019, 6, 4), datetime.date(2019, 6, 5), datetime.date(2019, 6, 6), datetime.date(2019, 6, 7), datetime.date(2019, 6, 8), datetime.date(2019, 6, 9), datetime.date(2019, 6, 10), datetime.date(2019, 6, 11), datetime.date(2019, 6, 12), datetime.date(2019, 6, 13), datetime.date(2019, 6, 14), datetime.date(2019, 6, 15), datetime.date(2019, 6, 16), datetime.date(2019, 6, 17), datetime.date(2019, 6, 18), datetime.date(2019, 6, 19), datetime.date(2019, 6, 20), datetime.date(2019, 6, 21), datetime.date(2019, 6, 22), datetime.date(2019, 6, 23), datetime.date(2019, 6, 24), datetime.date(2019, 6, 25), datetime.date(2019, 6, 26), datetime.date(2019, 6, 27), datetime.date(2019, 6, 28), datetime.date(2019, 6, 29), datetime.date(2019, 6, 30)]\n"
     ]
    }
   ],
   "source": [
    "days = list(filter_df['day'].unique())\n",
    "new = []\n",
    "for e in days:\n",
    "    ndf = filter_df.loc[filter_df.day == e]\n",
    "    new.append(dt.date(2019, 6, e))\n",
    "print(new)"
   ]
  },
  {
   "cell_type": "code",
   "execution_count": 19,
   "metadata": {},
   "outputs": [],
   "source": [
    "def extraction(df, m):\n",
    "    f_df = df.loc[df['month'] == m]\n",
    "    y = 2019\n",
    "    days = list(f_df['day'].unique())\n",
    "    results = {}\n",
    "    nombres = ['date', '24h_avg', '12h_avg', 'min', 'max', 'volume', 'm_side']\n",
    "    \n",
    "    for i in nombres:\n",
    "        results[i] = []\n",
    "    \n",
    "    for e in days:\n",
    "        ndf = f_df.loc[f_df.day == e]\n",
    "        results['date'].append(dt.date(y, m, e))\n",
    "        results['24h_avg'].append(ndf.price.mean())\n",
    "        results['12h_avg'].append(ndf.price.loc[ndf.hour<12].mean())\n",
    "        results['max'].append(ndf.price.max())\n",
    "        results['min'].append(ndf.price.min())\n",
    "        results['volume'].append(ndf.volume.sum())\n",
    "        results['m_side'].append(ndf.side.max())\n",
    "    \n",
    "        \n",
    "    return results"
   ]
  },
  {
   "cell_type": "code",
   "execution_count": 20,
   "metadata": {},
   "outputs": [],
   "source": [
    "df1 = pd.DataFrame.from_dict(extraction(btc_mxn, 6))\n",
    "df2 = pd.DataFrame.from_dict(extraction(btc_mxn, 7))\n",
    "df3 = pd.DataFrame.from_dict(extraction(btc_mxn, 8))\n",
    "df4 = pd.DataFrame.from_dict(extraction(btc_mxn, 9))\n",
    "df5 = pd.DataFrame.from_dict(extraction(btc_mxn, 10))\n",
    "df6 = pd.DataFrame.from_dict(extraction(btc_mxn, 11))\n",
    "df7 = pd.DataFrame.from_dict(extraction(btc_mxn, 12))"
   ]
  },
  {
   "cell_type": "code",
   "execution_count": 34,
   "metadata": {},
   "outputs": [],
   "source": [
    "second_semester = pd.concat([df1,df2,df3,df4,df5,df6,df7], ignore_index=True, )"
   ]
  },
  {
   "cell_type": "code",
   "execution_count": 39,
   "metadata": {},
   "outputs": [],
   "source": [
    "second_semester.drop(second_semester.tail(1).index,inplace=True)"
   ]
  },
  {
   "cell_type": "code",
   "execution_count": 42,
   "metadata": {},
   "outputs": [],
   "source": [
    "second_semester.to_csv('csv_files/btc_mxn_bitso_19_12_14')"
   ]
  },
  {
   "cell_type": "code",
   "execution_count": 40,
   "metadata": {},
   "outputs": [
    {
     "data": {
      "text/html": [
       "<div>\n",
       "<style scoped>\n",
       "    .dataframe tbody tr th:only-of-type {\n",
       "        vertical-align: middle;\n",
       "    }\n",
       "\n",
       "    .dataframe tbody tr th {\n",
       "        vertical-align: top;\n",
       "    }\n",
       "\n",
       "    .dataframe thead th {\n",
       "        text-align: right;\n",
       "    }\n",
       "</style>\n",
       "<table border=\"1\" class=\"dataframe\">\n",
       "  <thead>\n",
       "    <tr style=\"text-align: right;\">\n",
       "      <th></th>\n",
       "      <th>date</th>\n",
       "      <th>24h_avg</th>\n",
       "      <th>12h_avg</th>\n",
       "      <th>min</th>\n",
       "      <th>max</th>\n",
       "      <th>volume</th>\n",
       "      <th>m_side</th>\n",
       "    </tr>\n",
       "  </thead>\n",
       "  <tbody>\n",
       "    <tr>\n",
       "      <th>0</th>\n",
       "      <td>2019-06-01</td>\n",
       "      <td>169839.784796</td>\n",
       "      <td>169732.258750</td>\n",
       "      <td>167606.40</td>\n",
       "      <td>170999.99</td>\n",
       "      <td>22.400556</td>\n",
       "      <td>sell</td>\n",
       "    </tr>\n",
       "    <tr>\n",
       "      <th>1</th>\n",
       "      <td>2019-06-02</td>\n",
       "      <td>171126.622522</td>\n",
       "      <td>170436.470929</td>\n",
       "      <td>169063.80</td>\n",
       "      <td>172887.47</td>\n",
       "      <td>23.205093</td>\n",
       "      <td>sell</td>\n",
       "    </tr>\n",
       "    <tr>\n",
       "      <th>2</th>\n",
       "      <td>2019-06-03</td>\n",
       "      <td>168768.156960</td>\n",
       "      <td>170219.484195</td>\n",
       "      <td>162501.11</td>\n",
       "      <td>171994.96</td>\n",
       "      <td>45.846036</td>\n",
       "      <td>sell</td>\n",
       "    </tr>\n",
       "    <tr>\n",
       "      <th>3</th>\n",
       "      <td>2019-06-04</td>\n",
       "      <td>156071.429773</td>\n",
       "      <td>159374.496284</td>\n",
       "      <td>149053.01</td>\n",
       "      <td>163000.00</td>\n",
       "      <td>84.385705</td>\n",
       "      <td>sell</td>\n",
       "    </tr>\n",
       "    <tr>\n",
       "      <th>4</th>\n",
       "      <td>2019-06-05</td>\n",
       "      <td>154991.694859</td>\n",
       "      <td>155761.115012</td>\n",
       "      <td>152100.25</td>\n",
       "      <td>157999.99</td>\n",
       "      <td>61.765210</td>\n",
       "      <td>sell</td>\n",
       "    </tr>\n",
       "    <tr>\n",
       "      <th>...</th>\n",
       "      <td>...</td>\n",
       "      <td>...</td>\n",
       "      <td>...</td>\n",
       "      <td>...</td>\n",
       "      <td>...</td>\n",
       "      <td>...</td>\n",
       "      <td>...</td>\n",
       "    </tr>\n",
       "    <tr>\n",
       "      <th>192</th>\n",
       "      <td>2019-12-10</td>\n",
       "      <td>140309.212488</td>\n",
       "      <td>141927.150339</td>\n",
       "      <td>138009.72</td>\n",
       "      <td>142536.45</td>\n",
       "      <td>43.193731</td>\n",
       "      <td>sell</td>\n",
       "    </tr>\n",
       "    <tr>\n",
       "      <th>193</th>\n",
       "      <td>2019-12-11</td>\n",
       "      <td>137586.852871</td>\n",
       "      <td>139300.049000</td>\n",
       "      <td>132000.00</td>\n",
       "      <td>139900.00</td>\n",
       "      <td>35.621595</td>\n",
       "      <td>sell</td>\n",
       "    </tr>\n",
       "    <tr>\n",
       "      <th>194</th>\n",
       "      <td>2019-12-12</td>\n",
       "      <td>136848.166682</td>\n",
       "      <td>136653.777105</td>\n",
       "      <td>135250.41</td>\n",
       "      <td>138699.98</td>\n",
       "      <td>27.216364</td>\n",
       "      <td>sell</td>\n",
       "    </tr>\n",
       "    <tr>\n",
       "      <th>195</th>\n",
       "      <td>2019-12-13</td>\n",
       "      <td>137775.113867</td>\n",
       "      <td>137188.116218</td>\n",
       "      <td>136800.01</td>\n",
       "      <td>138799.97</td>\n",
       "      <td>40.687669</td>\n",
       "      <td>sell</td>\n",
       "    </tr>\n",
       "    <tr>\n",
       "      <th>196</th>\n",
       "      <td>2019-12-14</td>\n",
       "      <td>136111.476833</td>\n",
       "      <td>138190.288100</td>\n",
       "      <td>133300.11</td>\n",
       "      <td>138488.46</td>\n",
       "      <td>33.463544</td>\n",
       "      <td>sell</td>\n",
       "    </tr>\n",
       "  </tbody>\n",
       "</table>\n",
       "<p>197 rows × 7 columns</p>\n",
       "</div>"
      ],
      "text/plain": [
       "           date        24h_avg        12h_avg        min        max  \\\n",
       "0    2019-06-01  169839.784796  169732.258750  167606.40  170999.99   \n",
       "1    2019-06-02  171126.622522  170436.470929  169063.80  172887.47   \n",
       "2    2019-06-03  168768.156960  170219.484195  162501.11  171994.96   \n",
       "3    2019-06-04  156071.429773  159374.496284  149053.01  163000.00   \n",
       "4    2019-06-05  154991.694859  155761.115012  152100.25  157999.99   \n",
       "..          ...            ...            ...        ...        ...   \n",
       "192  2019-12-10  140309.212488  141927.150339  138009.72  142536.45   \n",
       "193  2019-12-11  137586.852871  139300.049000  132000.00  139900.00   \n",
       "194  2019-12-12  136848.166682  136653.777105  135250.41  138699.98   \n",
       "195  2019-12-13  137775.113867  137188.116218  136800.01  138799.97   \n",
       "196  2019-12-14  136111.476833  138190.288100  133300.11  138488.46   \n",
       "\n",
       "        volume m_side  \n",
       "0    22.400556   sell  \n",
       "1    23.205093   sell  \n",
       "2    45.846036   sell  \n",
       "3    84.385705   sell  \n",
       "4    61.765210   sell  \n",
       "..         ...    ...  \n",
       "192  43.193731   sell  \n",
       "193  35.621595   sell  \n",
       "194  27.216364   sell  \n",
       "195  40.687669   sell  \n",
       "196  33.463544   sell  \n",
       "\n",
       "[197 rows x 7 columns]"
      ]
     },
     "execution_count": 40,
     "metadata": {},
     "output_type": "execute_result"
    }
   ],
   "source": [
    "second_semester"
   ]
  },
  {
   "cell_type": "code",
   "execution_count": null,
   "metadata": {},
   "outputs": [],
   "source": []
  }
 ],
 "metadata": {
  "kernelspec": {
   "display_name": "Python 3",
   "language": "python",
   "name": "python3"
  },
  "language_info": {
   "codemirror_mode": {
    "name": "ipython",
    "version": 3
   },
   "file_extension": ".py",
   "mimetype": "text/x-python",
   "name": "python",
   "nbconvert_exporter": "python",
   "pygments_lexer": "ipython3",
   "version": "3.7.3"
  }
 },
 "nbformat": 4,
 "nbformat_minor": 2
}
