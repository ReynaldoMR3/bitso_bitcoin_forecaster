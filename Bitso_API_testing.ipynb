{
 "cells": [
  {
   "cell_type": "code",
   "execution_count": 3,
   "metadata": {},
   "outputs": [],
   "source": [
    "import bitso\n",
    "import pandas as pd\n",
    "import numpy as np"
   ]
  },
  {
   "cell_type": "code",
   "execution_count": 21,
   "metadata": {},
   "outputs": [],
   "source": [
    "with open('key.txt') as f:\n",
    "    a = f.readlines()"
   ]
  },
  {
   "cell_type": "code",
   "execution_count": 22,
   "metadata": {},
   "outputs": [],
   "source": [
    "with open('secret.txt') as p:\n",
    "    b = p.readlines()"
   ]
  },
  {
   "cell_type": "code",
   "execution_count": 26,
   "metadata": {},
   "outputs": [],
   "source": [
    "API_SECRET = [i.split('\\n') for i in a][0][0]"
   ]
  },
  {
   "cell_type": "code",
   "execution_count": 27,
   "metadata": {},
   "outputs": [],
   "source": [
    "API_KEY = [i.split('\\n') for i in b][0][0]"
   ]
  },
  {
   "cell_type": "code",
   "execution_count": 29,
   "metadata": {},
   "outputs": [],
   "source": [
    "api = bitso.Api(API_KEY, API_SECRET)"
   ]
  },
  {
   "cell_type": "code",
   "execution_count": 31,
   "metadata": {},
   "outputs": [],
   "source": [
    "books = api.available_books()"
   ]
  },
  {
   "cell_type": "code",
   "execution_count": 39,
   "metadata": {},
   "outputs": [
    {
     "data": {
      "text/plain": [
       "AvilableBooks(books=btc_mxn,eth_btc,eth_mxn,xrp_btc,xrp_mxn,ltc_btc,ltc_mxn,bch_btc,bch_mxn,tusd_btc,tusd_mxn,mana_btc,mana_mxn,gnt_btc,gnt_mxn,bat_btc,bat_mxn)"
      ]
     },
     "execution_count": 39,
     "metadata": {},
     "output_type": "execute_result"
    }
   ],
   "source": [
    "books"
   ]
  },
  {
   "cell_type": "code",
   "execution_count": 40,
   "metadata": {},
   "outputs": [],
   "source": [
    "ob = api.order_book('btc_mxn', aggregate = True)"
   ]
  },
  {
   "cell_type": "code",
   "execution_count": 51,
   "metadata": {},
   "outputs": [
    {
     "data": {
      "text/plain": [
       "datetime.datetime(2019, 12, 12, 16, 22, 7, tzinfo=tzutc())"
      ]
     },
     "execution_count": 51,
     "metadata": {},
     "output_type": "execute_result"
    }
   ],
   "source": [
    "ob.updated_at"
   ]
  },
  {
   "cell_type": "code",
   "execution_count": 42,
   "metadata": {},
   "outputs": [
    {
     "data": {
      "text/plain": [
       "296526567"
      ]
     },
     "execution_count": 42,
     "metadata": {},
     "output_type": "execute_result"
    }
   ],
   "source": [
    "ob.sequence"
   ]
  },
  {
   "cell_type": "code",
   "execution_count": 52,
   "metadata": {},
   "outputs": [
    {
     "data": {
      "text/plain": [
       "[PublicOrder(book=btc_mxn,price=136900.00, amount=0.95161920),\n",
       " PublicOrder(book=btc_mxn,price=136999.36, amount=0.06773765),\n",
       " PublicOrder(book=btc_mxn,price=137000.00, amount=0.49854014),\n",
       " PublicOrder(book=btc_mxn,price=137100.00, amount=0.44065148),\n",
       " PublicOrder(book=btc_mxn,price=137100.01, amount=0.00072109),\n",
       " PublicOrder(book=btc_mxn,price=137199.98, amount=1.78887223),\n",
       " PublicOrder(book=btc_mxn,price=137199.99, amount=0.09355103),\n",
       " PublicOrder(book=btc_mxn,price=137200.00, amount=0.95003802),\n",
       " PublicOrder(book=btc_mxn,price=137204.90, amount=0.10000000),\n",
       " PublicOrder(book=btc_mxn,price=137333.61, amount=2.57613981),\n",
       " PublicOrder(book=btc_mxn,price=137333.62, amount=0.00100000),\n",
       " PublicOrder(book=btc_mxn,price=137681.64, amount=0.25000000),\n",
       " PublicOrder(book=btc_mxn,price=137921.01, amount=1.77174684),\n",
       " PublicOrder(book=btc_mxn,price=137921.02, amount=2.65762563),\n",
       " PublicOrder(book=btc_mxn,price=137921.03, amount=17.97908366),\n",
       " PublicOrder(book=btc_mxn,price=137921.04, amount=0.09000000),\n",
       " PublicOrder(book=btc_mxn,price=138000.00, amount=0.14373907),\n",
       " PublicOrder(book=btc_mxn,price=138109.44, amount=1.50000000),\n",
       " PublicOrder(book=btc_mxn,price=138456.59, amount=8.64680407),\n",
       " PublicOrder(book=btc_mxn,price=138700.00, amount=0.21100000),\n",
       " PublicOrder(book=btc_mxn,price=138989.00, amount=0.04482000),\n",
       " PublicOrder(book=btc_mxn,price=139000.00, amount=1.14345080),\n",
       " PublicOrder(book=btc_mxn,price=139100.00, amount=0.25000000),\n",
       " PublicOrder(book=btc_mxn,price=139300.00, amount=0.00074644),\n",
       " PublicOrder(book=btc_mxn,price=139393.19, amount=5.15783257),\n",
       " PublicOrder(book=btc_mxn,price=139500.00, amount=0.07425744),\n",
       " PublicOrder(book=btc_mxn,price=139700.00, amount=0.20000000),\n",
       " PublicOrder(book=btc_mxn,price=139881.32, amount=0.00259225),\n",
       " PublicOrder(book=btc_mxn,price=139900.00, amount=0.01225451),\n",
       " PublicOrder(book=btc_mxn,price=139999.00, amount=0.00714291),\n",
       " PublicOrder(book=btc_mxn,price=140000.00, amount=0.10435702),\n",
       " PublicOrder(book=btc_mxn,price=140000.81, amount=0.07800000),\n",
       " PublicOrder(book=btc_mxn,price=140264.61, amount=0.01700000),\n",
       " PublicOrder(book=btc_mxn,price=140300.00, amount=0.00084787),\n",
       " PublicOrder(book=btc_mxn,price=140400.00, amount=0.01489801),\n",
       " PublicOrder(book=btc_mxn,price=140450.00, amount=0.00100000),\n",
       " PublicOrder(book=btc_mxn,price=140500.00, amount=0.15000000),\n",
       " PublicOrder(book=btc_mxn,price=141000.00, amount=0.00048769),\n",
       " PublicOrder(book=btc_mxn,price=141169.00, amount=0.00013500),\n",
       " PublicOrder(book=btc_mxn,price=141300.00, amount=0.00073541),\n",
       " PublicOrder(book=btc_mxn,price=141500.00, amount=0.00704115),\n",
       " PublicOrder(book=btc_mxn,price=141582.21, amount=0.01656118),\n",
       " PublicOrder(book=btc_mxn,price=141624.00, amount=0.00052958),\n",
       " PublicOrder(book=btc_mxn,price=141900.99, amount=0.01599481),\n",
       " PublicOrder(book=btc_mxn,price=141950.00, amount=0.00122077),\n",
       " PublicOrder(book=btc_mxn,price=142000.00, amount=0.08559296),\n",
       " PublicOrder(book=btc_mxn,price=142001.50, amount=0.00018740),\n",
       " PublicOrder(book=btc_mxn,price=142133.00, amount=0.45561991),\n",
       " PublicOrder(book=btc_mxn,price=142200.00, amount=0.00384219),\n",
       " PublicOrder(book=btc_mxn,price=142224.00, amount=0.00052734)]"
      ]
     },
     "execution_count": 52,
     "metadata": {},
     "output_type": "execute_result"
    }
   ],
   "source": [
    "ob.asks"
   ]
  },
  {
   "cell_type": "code",
   "execution_count": 47,
   "metadata": {
    "scrolled": true
   },
   "outputs": [
    {
     "data": {
      "text/plain": [
       "[PublicOrder(book=btc_mxn,price=136434.60, amount=0.07714567),\n",
       " PublicOrder(book=btc_mxn,price=136434.59, amount=0.38113502),\n",
       " PublicOrder(book=btc_mxn,price=136434.58, amount=0.07714567),\n",
       " PublicOrder(book=btc_mxn,price=136434.55, amount=0.38113513),\n",
       " PublicOrder(book=btc_mxn,price=136434.54, amount=0.45828083),\n",
       " PublicOrder(book=btc_mxn,price=136434.52, amount=0.38113521),\n",
       " PublicOrder(book=btc_mxn,price=136434.09, amount=0.06010235),\n",
       " PublicOrder(book=btc_mxn,price=136418.69, amount=0.00036652),\n",
       " PublicOrder(book=btc_mxn,price=136412.00, amount=0.03665367),\n",
       " PublicOrder(book=btc_mxn,price=136354.55, amount=0.08337166),\n",
       " PublicOrder(book=btc_mxn,price=136345.59, amount=1.78887224),\n",
       " PublicOrder(book=btc_mxn,price=136219.20, amount=0.25000000),\n",
       " PublicOrder(book=btc_mxn,price=136200.01, amount=0.13115829),\n",
       " PublicOrder(book=btc_mxn,price=136200.00, amount=0.00367108),\n",
       " PublicOrder(book=btc_mxn,price=136191.86, amount=1.60000000),\n",
       " PublicOrder(book=btc_mxn,price=136000.01, amount=17.97908367),\n",
       " PublicOrder(book=btc_mxn,price=136000.00, amount=0.01078555),\n",
       " PublicOrder(book=btc_mxn,price=135800.00, amount=0.07330590),\n",
       " PublicOrder(book=btc_mxn,price=135750.00, amount=0.00147330),\n",
       " PublicOrder(book=btc_mxn,price=135700.00, amount=0.01649219),\n",
       " PublicOrder(book=btc_mxn,price=135617.72, amount=0.00011061),\n",
       " PublicOrder(book=btc_mxn,price=135601.00, amount=0.00368729),\n",
       " PublicOrder(book=btc_mxn,price=135600.76, amount=0.00100000),\n",
       " PublicOrder(book=btc_mxn,price=135506.00, amount=0.02213925),\n",
       " PublicOrder(book=btc_mxn,price=135500.00, amount=0.15055353),\n",
       " PublicOrder(book=btc_mxn,price=135498.00, amount=0.00044282),\n",
       " PublicOrder(book=btc_mxn,price=135250.00, amount=0.00161924),\n",
       " PublicOrder(book=btc_mxn,price=135245.08, amount=0.11090977),\n",
       " PublicOrder(book=btc_mxn,price=135170.00, amount=0.02219428),\n",
       " PublicOrder(book=btc_mxn,price=135159.01, amount=0.00739870),\n",
       " PublicOrder(book=btc_mxn,price=135150.00, amount=0.03699594),\n",
       " PublicOrder(book=btc_mxn,price=135086.55, amount=0.05000000),\n",
       " PublicOrder(book=btc_mxn,price=135006.00, amount=0.01476972),\n",
       " PublicOrder(book=btc_mxn,price=135000.00, amount=4.11953312),\n",
       " PublicOrder(book=btc_mxn,price=134950.79, amount=8.64680408),\n",
       " PublicOrder(book=btc_mxn,price=134900.00, amount=0.00008155),\n",
       " PublicOrder(book=btc_mxn,price=134850.00, amount=0.00741565),\n",
       " PublicOrder(book=btc_mxn,price=134838.00, amount=0.00054102),\n",
       " PublicOrder(book=btc_mxn,price=134800.00, amount=0.00008161),\n",
       " PublicOrder(book=btc_mxn,price=134780.00, amount=0.00029678),\n",
       " PublicOrder(book=btc_mxn,price=134750.00, amount=0.01499074),\n",
       " PublicOrder(book=btc_mxn,price=134701.80, amount=0.00054157),\n",
       " PublicOrder(book=btc_mxn,price=134700.00, amount=0.00008167),\n",
       " PublicOrder(book=btc_mxn,price=134601.00, amount=0.00371469),\n",
       " PublicOrder(book=btc_mxn,price=134600.00, amount=0.00008173),\n",
       " PublicOrder(book=btc_mxn,price=134565.60, amount=0.00054212),\n",
       " PublicOrder(book=btc_mxn,price=134550.00, amount=0.00022297),\n",
       " PublicOrder(book=btc_mxn,price=134501.00, amount=0.01115234),\n",
       " PublicOrder(book=btc_mxn,price=134500.00, amount=0.11094984),\n",
       " PublicOrder(book=btc_mxn,price=134429.40, amount=0.00054274)]"
      ]
     },
     "execution_count": 47,
     "metadata": {},
     "output_type": "execute_result"
    }
   ],
   "source": [
    "ob.bids"
   ]
  },
  {
   "cell_type": "code",
   "execution_count": 174,
   "metadata": {},
   "outputs": [],
   "source": [
    "trades = api.trades('btc_mxn', sort='asc', limit='100', marker=1)"
   ]
  },
  {
   "cell_type": "code",
   "execution_count": 175,
   "metadata": {},
   "outputs": [],
   "source": [
    "#max marker 12910800"
   ]
  },
  {
   "cell_type": "code",
   "execution_count": 176,
   "metadata": {},
   "outputs": [
    {
     "data": {
      "text/plain": [
       "[Trade(tid=2, price=5948, amount=0.05000000, maker_side=sell, created_at=2014-04-07 08:22:10+00:00),\n",
       " Trade(tid=3, price=6420, amount=0.01000000, maker_side=buy, created_at=2014-04-07 17:00:55+00:00),\n",
       " Trade(tid=4, price=6410, amount=0.01000000, maker_side=buy, created_at=2014-04-07 19:29:34+00:00),\n",
       " Trade(tid=5, price=5895, amount=0.01000000, maker_side=sell, created_at=2014-04-07 21:38:56+00:00),\n",
       " Trade(tid=6, price=5880, amount=0.01000000, maker_side=buy, created_at=2014-04-07 21:39:06+00:00),\n",
       " Trade(tid=7, price=5908, amount=0.01000000, maker_side=sell, created_at=2014-04-07 21:39:42+00:00),\n",
       " Trade(tid=8, price=6022, amount=0.01000000, maker_side=sell, created_at=2014-04-07 21:40:11+00:00),\n",
       " Trade(tid=9, price=6050, amount=0.01000000, maker_side=buy, created_at=2014-04-07 21:45:02+00:00),\n",
       " Trade(tid=10, price=6022, amount=0.00500000, maker_side=buy, created_at=2014-04-07 21:50:43+00:00),\n",
       " Trade(tid=11, price=6080, amount=0.01000000, maker_side=sell, created_at=2014-04-07 21:52:44+00:00),\n",
       " Trade(tid=12, price=6090, amount=0.02000000, maker_side=sell, created_at=2014-04-07 21:53:00+00:00),\n",
       " Trade(tid=13, price=6010, amount=0.00500000, maker_side=buy, created_at=2014-04-07 21:53:13+00:00),\n",
       " Trade(tid=14, price=5900, amount=0.09500000, maker_side=buy, created_at=2014-04-07 21:54:24+00:00),\n",
       " Trade(tid=15, price=6410, amount=0.10000000, maker_side=buy, created_at=2014-04-07 21:57:33+00:00),\n",
       " Trade(tid=16, price=6412, amount=0.05000000, maker_side=buy, created_at=2014-04-07 21:59:15+00:00),\n",
       " Trade(tid=17, price=6412, amount=0.05000000, maker_side=buy, created_at=2014-04-07 21:59:25+00:00),\n",
       " Trade(tid=18, price=6085, amount=0.03000000, maker_side=sell, created_at=2014-04-07 22:00:24+00:00),\n",
       " Trade(tid=19, price=6000, amount=0.00500000, maker_side=buy, created_at=2014-04-08 07:39:28+00:00),\n",
       " Trade(tid=20, price=6080, amount=0.01000000, maker_side=sell, created_at=2014-04-08 07:40:02+00:00),\n",
       " Trade(tid=21, price=6080, amount=0.01000000, maker_side=sell, created_at=2014-04-08 18:02:53+00:00),\n",
       " Trade(tid=22, price=6000, amount=0.00500000, maker_side=buy, created_at=2014-04-08 18:49:32+00:00),\n",
       " Trade(tid=23, price=6000, amount=0.01000000, maker_side=buy, created_at=2014-04-09 03:33:21+00:00),\n",
       " Trade(tid=24, price=6005, amount=1.00000000, maker_side=sell, created_at=2014-04-09 04:11:42+00:00),\n",
       " Trade(tid=25, price=6025, amount=0.01000000, maker_side=sell, created_at=2014-04-09 04:13:54+00:00),\n",
       " Trade(tid=26, price=6004, amount=0.40000000, maker_side=sell, created_at=2014-04-09 04:14:18+00:00),\n",
       " Trade(tid=27, price=6005, amount=0.40000000, maker_side=sell, created_at=2014-04-09 04:14:53+00:00),\n",
       " Trade(tid=28, price=6010, amount=0.20000000, maker_side=sell, created_at=2014-04-09 04:15:16+00:00),\n",
       " Trade(tid=29, price=6005, amount=0.05000000, maker_side=sell, created_at=2014-04-09 04:16:13+00:00),\n",
       " Trade(tid=30, price=5999, amount=0.01000000, maker_side=buy, created_at=2014-04-09 09:31:01+00:00),\n",
       " Trade(tid=31, price=6057, amount=0.01000000, maker_side=sell, created_at=2014-04-09 18:24:36+00:00),\n",
       " Trade(tid=32, price=6057, amount=0.00500000, maker_side=sell, created_at=2014-04-09 18:25:24+00:00),\n",
       " Trade(tid=33, price=5950, amount=0.00612300, maker_side=sell, created_at=2014-04-10 01:56:31+00:00),\n",
       " Trade(tid=34, price=5969, amount=0.02387700, maker_side=sell, created_at=2014-04-10 01:56:31+00:00),\n",
       " Trade(tid=35, price=5935, amount=0.01516427, maker_side=buy, created_at=2014-04-10 02:22:32+00:00),\n",
       " Trade(tid=36, price=5920, amount=1.00000000, maker_side=sell, created_at=2014-04-10 02:54:15+00:00),\n",
       " Trade(tid=37, price=5919, amount=1.00000000, maker_side=sell, created_at=2014-04-10 02:54:42+00:00),\n",
       " Trade(tid=38, price=5915, amount=0.50000000, maker_side=sell, created_at=2014-04-10 02:55:22+00:00),\n",
       " Trade(tid=39, price=5915, amount=0.50000000, maker_side=sell, created_at=2014-04-10 02:55:38+00:00),\n",
       " Trade(tid=40, price=5900, amount=0.10000000, maker_side=buy, created_at=2014-04-10 04:47:42+00:00),\n",
       " Trade(tid=41, price=5800, amount=0.30000000, maker_side=buy, created_at=2014-04-10 04:50:33+00:00),\n",
       " Trade(tid=42, price=5800, amount=0.25000000, maker_side=sell, created_at=2014-04-10 07:24:01+00:00),\n",
       " Trade(tid=43, price=5805, amount=0.15000000, maker_side=sell, created_at=2014-04-10 07:24:47+00:00),\n",
       " Trade(tid=44, price=5790, amount=0.10000000, maker_side=sell, created_at=2014-04-10 07:25:04+00:00),\n",
       " Trade(tid=45, price=5850, amount=0.40000000, maker_side=sell, created_at=2014-04-10 07:25:57+00:00),\n",
       " Trade(tid=46, price=5830, amount=0.40000000, maker_side=sell, created_at=2014-04-10 07:26:21+00:00),\n",
       " Trade(tid=47, price=5800, amount=0.80000000, maker_side=buy, created_at=2014-04-10 07:27:01+00:00),\n",
       " Trade(tid=48, price=5401, amount=0.02647657, maker_side=buy, created_at=2014-04-10 19:26:27+00:00),\n",
       " Trade(tid=49, price=5400, amount=0.01000000, maker_side=buy, created_at=2014-04-10 19:33:55+00:00),\n",
       " Trade(tid=50, price=5200, amount=0.01000000, maker_side=buy, created_at=2014-04-10 20:39:48+00:00),\n",
       " Trade(tid=51, price=5000, amount=0.01790000, maker_side=buy, created_at=2014-04-10 21:22:05+00:00),\n",
       " Trade(tid=52, price=4600, amount=0.01000000, maker_side=buy, created_at=2014-04-10 21:22:58+00:00),\n",
       " Trade(tid=53, price=4900, amount=0.20000000, maker_side=buy, created_at=2014-04-10 23:48:39+00:00),\n",
       " Trade(tid=54, price=4800, amount=0.20000000, maker_side=buy, created_at=2014-04-10 23:48:51+00:00),\n",
       " Trade(tid=55, price=4550, amount=0.10000000, maker_side=buy, created_at=2014-04-10 23:49:26+00:00),\n",
       " Trade(tid=56, price=5300, amount=0.10000000, maker_side=sell, created_at=2014-04-10 23:52:00+00:00),\n",
       " Trade(tid=57, price=5295, amount=0.09100000, maker_side=sell, created_at=2014-04-11 02:11:15+00:00),\n",
       " Trade(tid=58, price=5251, amount=0.04281293, maker_side=sell, created_at=2014-04-11 05:04:16+00:00),\n",
       " Trade(tid=59, price=5252, amount=0.05260000, maker_side=sell, created_at=2014-04-11 05:05:40+00:00),\n",
       " Trade(tid=60, price=5295, amount=0.07000000, maker_side=sell, created_at=2014-04-11 16:40:11+00:00),\n",
       " Trade(tid=61, price=5295, amount=0.14110000, maker_side=sell, created_at=2014-04-11 16:40:19+00:00),\n",
       " Trade(tid=62, price=5300, amount=0.07000000, maker_side=sell, created_at=2014-04-11 16:40:38+00:00),\n",
       " Trade(tid=63, price=5590, amount=0.01000000, maker_side=sell, created_at=2014-04-11 18:04:06+00:00),\n",
       " Trade(tid=64, price=5600, amount=0.20000000, maker_side=sell, created_at=2014-04-11 18:04:16+00:00),\n",
       " Trade(tid=65, price=5700, amount=0.01000000, maker_side=sell, created_at=2014-04-11 18:05:25+00:00),\n",
       " Trade(tid=66, price=5500, amount=0.05000000, maker_side=sell, created_at=2014-04-11 18:51:06+00:00),\n",
       " Trade(tid=67, price=5510, amount=1.00000000, maker_side=buy, created_at=2014-04-11 19:30:30+00:00),\n",
       " Trade(tid=68, price=5500, amount=0.50000000, maker_side=buy, created_at=2014-04-11 19:31:04+00:00),\n",
       " Trade(tid=69, price=5550, amount=0.30000000, maker_side=buy, created_at=2014-04-11 19:31:36+00:00),\n",
       " Trade(tid=70, price=5560, amount=0.20000000, maker_side=buy, created_at=2014-04-11 19:32:01+00:00),\n",
       " Trade(tid=71, price=5550, amount=1.20000000, maker_side=buy, created_at=2014-04-11 19:35:59+00:00),\n",
       " Trade(tid=72, price=5480, amount=0.40000000, maker_side=sell, created_at=2014-04-11 23:51:50+00:00),\n",
       " Trade(tid=73, price=5492, amount=0.80000000, maker_side=sell, created_at=2014-04-11 23:52:12+00:00),\n",
       " Trade(tid=74, price=5499, amount=0.04990000, maker_side=sell, created_at=2014-04-12 01:32:07+00:00),\n",
       " Trade(tid=75, price=5500, amount=0.05000000, maker_side=sell, created_at=2014-04-12 01:32:07+00:00),\n",
       " Trade(tid=76, price=5475, amount=0.01000000, maker_side=buy, created_at=2014-04-12 04:18:17+00:00),\n",
       " Trade(tid=77, price=5590, amount=1.10000000, maker_side=buy, created_at=2014-04-12 06:58:24+00:00),\n",
       " Trade(tid=78, price=5585, amount=0.40000000, maker_side=sell, created_at=2014-04-12 06:59:50+00:00),\n",
       " Trade(tid=79, price=5601, amount=0.10000000, maker_side=sell, created_at=2014-04-12 07:00:31+00:00),\n",
       " Trade(tid=80, price=5570, amount=0.25000000, maker_side=sell, created_at=2014-04-12 07:01:18+00:00),\n",
       " Trade(tid=81, price=5572, amount=0.05000000, maker_side=sell, created_at=2014-04-12 07:01:48+00:00),\n",
       " Trade(tid=82, price=5590, amount=0.30000000, maker_side=sell, created_at=2014-04-12 07:02:21+00:00),\n",
       " Trade(tid=83, price=5610, amount=0.10000000, maker_side=buy, created_at=2014-04-12 07:04:32+00:00),\n",
       " Trade(tid=84, price=5609, amount=0.30000000, maker_side=buy, created_at=2014-04-12 07:05:16+00:00),\n",
       " Trade(tid=85, price=5605, amount=0.40000000, maker_side=sell, created_at=2014-04-12 07:05:55+00:00),\n",
       " Trade(tid=86, price=5705, amount=0.03500000, maker_side=sell, created_at=2014-04-12 18:28:27+00:00),\n",
       " Trade(tid=87, price=5600, amount=0.30000000, maker_side=sell, created_at=2014-04-12 23:06:08+00:00),\n",
       " Trade(tid=88, price=5550, amount=0.20000000, maker_side=sell, created_at=2014-04-12 23:06:23+00:00),\n",
       " Trade(tid=89, price=5650, amount=0.20000000, maker_side=sell, created_at=2014-04-12 23:06:55+00:00),\n",
       " Trade(tid=90, price=5580, amount=0.30000000, maker_side=sell, created_at=2014-04-12 23:07:10+00:00),\n",
       " Trade(tid=91, price=5602, amount=1.00000000, maker_side=sell, created_at=2014-04-12 23:08:04+00:00),\n",
       " Trade(tid=92, price=5550, amount=0.15000000, maker_side=buy, created_at=2014-04-12 23:59:29+00:00),\n",
       " Trade(tid=93, price=5526, amount=0.09030039, maker_side=buy, created_at=2014-04-13 06:46:46+00:00),\n",
       " Trade(tid=94, price=5525, amount=0.09600000, maker_side=buy, created_at=2014-04-13 16:16:44+00:00),\n",
       " Trade(tid=95, price=5450, amount=0.01000000, maker_side=buy, created_at=2014-04-13 16:17:12+00:00),\n",
       " Trade(tid=96, price=5400, amount=0.01000000, maker_side=buy, created_at=2014-04-13 16:17:33+00:00),\n",
       " Trade(tid=97, price=5100, amount=0.02040000, maker_side=buy, created_at=2014-04-13 20:26:38+00:00),\n",
       " Trade(tid=98, price=5100, amount=0.17960000, maker_side=buy, created_at=2014-04-14 00:22:40+00:00),\n",
       " Trade(tid=99, price=5609, amount=0.08600000, maker_side=sell, created_at=2014-04-14 02:34:41+00:00),\n",
       " Trade(tid=100, price=5602, amount=0.45000000, maker_side=buy, created_at=2014-04-14 06:00:08+00:00),\n",
       " Trade(tid=101, price=5580, amount=0.20000000, maker_side=buy, created_at=2014-04-14 06:00:44+00:00)]"
      ]
     },
     "execution_count": 176,
     "metadata": {},
     "output_type": "execute_result"
    }
   ],
   "source": [
    "trades"
   ]
  },
  {
   "cell_type": "code",
   "execution_count": 82,
   "metadata": {},
   "outputs": [
    {
     "data": {
      "text/plain": [
       "Trade(tid=2, price=5948, amount=0.05000000, maker_side=sell, created_at=2014-04-07 08:22:10+00:00)"
      ]
     },
     "execution_count": 82,
     "metadata": {},
     "output_type": "execute_result"
    }
   ],
   "source": [
    "trades[0]"
   ]
  },
  {
   "cell_type": "code",
   "execution_count": 73,
   "metadata": {},
   "outputs": [
    {
     "data": {
      "text/plain": [
       "bitso.models.Trade"
      ]
     },
     "execution_count": 73,
     "metadata": {},
     "output_type": "execute_result"
    }
   ],
   "source": [
    "type(trades[0])"
   ]
  },
  {
   "cell_type": "code",
   "execution_count": 74,
   "metadata": {},
   "outputs": [
    {
     "data": {
      "text/plain": [
       "'sell'"
      ]
     },
     "execution_count": 74,
     "metadata": {},
     "output_type": "execute_result"
    }
   ],
   "source": [
    "trades[0].maker_side"
   ]
  },
  {
   "cell_type": "code",
   "execution_count": 75,
   "metadata": {},
   "outputs": [
    {
     "data": {
      "text/plain": [
       "'btc_mxn'"
      ]
     },
     "execution_count": 75,
     "metadata": {},
     "output_type": "execute_result"
    }
   ],
   "source": [
    "trades[0].book"
   ]
  },
  {
   "cell_type": "code",
   "execution_count": 76,
   "metadata": {},
   "outputs": [
    {
     "data": {
      "text/plain": [
       "Decimal('6400.00')"
      ]
     },
     "execution_count": 76,
     "metadata": {},
     "output_type": "execute_result"
    }
   ],
   "source": [
    "trades[0].price"
   ]
  },
  {
   "cell_type": "code",
   "execution_count": 77,
   "metadata": {},
   "outputs": [
    {
     "data": {
      "text/plain": [
       "decimal.Decimal"
      ]
     },
     "execution_count": 77,
     "metadata": {},
     "output_type": "execute_result"
    }
   ],
   "source": [
    "type(trades[0].price)"
   ]
  },
  {
   "cell_type": "code",
   "execution_count": 78,
   "metadata": {},
   "outputs": [],
   "source": [
    "prueba = trades[0].price"
   ]
  },
  {
   "cell_type": "code",
   "execution_count": 79,
   "metadata": {},
   "outputs": [
    {
     "data": {
      "text/plain": [
       "6400.0"
      ]
     },
     "execution_count": 79,
     "metadata": {},
     "output_type": "execute_result"
    }
   ],
   "source": [
    "float(prueba)"
   ]
  },
  {
   "cell_type": "code",
   "execution_count": 188,
   "metadata": {},
   "outputs": [],
   "source": [
    "class Bitsotrades:\n",
    "    def __init__(self, currency, sort='asc', limit='100', marker=1):\n",
    "        self.currency = currency\n",
    "        self.sort = sort\n",
    "        self.limit = limit\n",
    "        self.marker = marker\n",
    "        \n",
    "    def trades(self):\n",
    "        self = api.trades(self.currency, sort=self.sort, limit=self.limit, marker=self.marker)\n",
    "        return self\n"
   ]
  },
  {
   "cell_type": "code",
   "execution_count": 193,
   "metadata": {},
   "outputs": [
    {
     "name": "stdout",
     "output_type": "stream",
     "text": [
      "<__main__.Bitsotrades object at 0x7fc7043bd588>\n"
     ]
    }
   ],
   "source": [
    "print(Bitsotrades('btc_mxn', marker=100))\n"
   ]
  },
  {
   "cell_type": "code",
   "execution_count": 194,
   "metadata": {},
   "outputs": [
    {
     "data": {
      "text/plain": [
       "__main__.Bitsotrades"
      ]
     },
     "execution_count": 194,
     "metadata": {},
     "output_type": "execute_result"
    }
   ],
   "source": [
    "type(bitcoin)"
   ]
  },
  {
   "cell_type": "code",
   "execution_count": null,
   "metadata": {},
   "outputs": [],
   "source": []
  }
 ],
 "metadata": {
  "kernelspec": {
   "display_name": "Python 3",
   "language": "python",
   "name": "python3"
  },
  "language_info": {
   "codemirror_mode": {
    "name": "ipython",
    "version": 3
   },
   "file_extension": ".py",
   "mimetype": "text/x-python",
   "name": "python",
   "nbconvert_exporter": "python",
   "pygments_lexer": "ipython3",
   "version": "3.7.3"
  }
 },
 "nbformat": 4,
 "nbformat_minor": 2
}
